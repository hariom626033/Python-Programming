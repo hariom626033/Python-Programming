{
 "cells": [
  {
   "cell_type": "markdown",
   "id": "8d5492f4",
   "metadata": {},
   "source": [
    "## sum varaible basic python programming"
   ]
  },
  {
   "cell_type": "code",
   "execution_count": 51,
   "id": "ace4b6ae",
   "metadata": {
    "scrolled": true
   },
   "outputs": [
    {
     "data": {
      "text/plain": [
       "10"
      ]
     },
     "execution_count": 51,
     "metadata": {},
     "output_type": "execute_result"
    }
   ],
   "source": [
    "a=10\n",
    "a"
   ]
  },
  {
   "cell_type": "markdown",
   "id": "b2d85271",
   "metadata": {},
   "source": [
    "# sum varaible basic python programming"
   ]
  },
  {
   "cell_type": "code",
   "execution_count": 52,
   "id": "99321945",
   "metadata": {},
   "outputs": [
    {
     "data": {
      "text/plain": [
       "40"
      ]
     },
     "execution_count": 52,
     "metadata": {},
     "output_type": "execute_result"
    }
   ],
   "source": [
    "# a=10\n",
    "b=30\n",
    "c=a+b\n",
    "c"
   ]
  },
  {
   "cell_type": "markdown",
   "id": "a2714fd5",
   "metadata": {},
   "source": [
    "# sum varaible basic python programming"
   ]
  },
  {
   "cell_type": "code",
   "execution_count": 54,
   "id": "665940b0",
   "metadata": {},
   "outputs": [
    {
     "data": {
      "text/plain": [
       "'vivek'"
      ]
     },
     "execution_count": 54,
     "metadata": {},
     "output_type": "execute_result"
    }
   ],
   "source": [
    "a=\"vivek\"\n",
    "a"
   ]
  },
  {
   "cell_type": "code",
   "execution_count": 58,
   "id": "d473d1ae",
   "metadata": {},
   "outputs": [
    {
     "data": {
      "text/plain": [
       "str"
      ]
     },
     "execution_count": 58,
     "metadata": {},
     "output_type": "execute_result"
    }
   ],
   "source": [
    "type(a)"
   ]
  },
  {
   "cell_type": "markdown",
   "id": "e41fa1d4",
   "metadata": {},
   "source": [
    "# sum varaible basic python programming"
   ]
  },
  {
   "cell_type": "code",
   "execution_count": null,
   "id": "ffe7b54a",
   "metadata": {},
   "outputs": [
    {
     "data": {
      "text/plain": [
       "'vivek'"
      ]
     },
     "execution_count": 5,
     "metadata": {},
     "output_type": "execute_result"
    }
   ],
   "source": [
    "___name___=\"vivek\"\n",
    "___name___"
   ]
  },
  {
   "cell_type": "markdown",
   "id": "c9f0def3",
   "metadata": {},
   "source": [
    "# float type datatype "
   ]
  },
  {
   "cell_type": "code",
   "execution_count": 60,
   "id": "8aa410df",
   "metadata": {},
   "outputs": [
    {
     "name": "stdout",
     "output_type": "stream",
     "text": [
      "Enter the Name: 90\n"
     ]
    }
   ],
   "source": [
    "name = float(input(\"Enter the Name: \"))"
   ]
  },
  {
   "cell_type": "code",
   "execution_count": 61,
   "id": "80c67941",
   "metadata": {},
   "outputs": [
    {
     "data": {
      "text/plain": [
       "90.0"
      ]
     },
     "execution_count": 61,
     "metadata": {},
     "output_type": "execute_result"
    }
   ],
   "source": [
    "name"
   ]
  },
  {
   "cell_type": "code",
   "execution_count": 62,
   "id": "04fe0c17",
   "metadata": {},
   "outputs": [
    {
     "data": {
      "text/plain": [
       "float"
      ]
     },
     "execution_count": 62,
     "metadata": {},
     "output_type": "execute_result"
    }
   ],
   "source": [
    "type(name)"
   ]
  },
  {
   "cell_type": "code",
   "execution_count": 9,
   "id": "41478c30",
   "metadata": {},
   "outputs": [
    {
     "data": {
      "text/plain": [
       "12"
      ]
     },
     "execution_count": 9,
     "metadata": {},
     "output_type": "execute_result"
    }
   ],
   "source": [
    "int(12.34)"
   ]
  },
  {
   "cell_type": "code",
   "execution_count": 10,
   "id": "70961295",
   "metadata": {},
   "outputs": [
    {
     "data": {
      "text/plain": [
       "12.0"
      ]
     },
     "execution_count": 10,
     "metadata": {},
     "output_type": "execute_result"
    }
   ],
   "source": [
    "float(12)"
   ]
  },
  {
   "cell_type": "markdown",
   "id": "15f6a4bd",
   "metadata": {},
   "source": [
    "# sum varaible basic python programming"
   ]
  },
  {
   "cell_type": "code",
   "execution_count": 11,
   "id": "a26b2372",
   "metadata": {},
   "outputs": [
    {
     "name": "stdout",
     "output_type": "stream",
     "text": [
      "ABC DV\n"
     ]
    }
   ],
   "source": [
    "print(\"ABC DV\")"
   ]
  },
  {
   "cell_type": "markdown",
   "id": "ab72e11f",
   "metadata": {},
   "source": [
    "# seperation and ending pyhton programing"
   ]
  },
  {
   "cell_type": "code",
   "execution_count": 12,
   "id": "9a96c7d4",
   "metadata": {},
   "outputs": [
    {
     "name": "stdout",
     "output_type": "stream",
     "text": [
      "My_Name_Is_Vivek\n",
      "Cool\n"
     ]
    }
   ],
   "source": [
    "print(\"My\", \"Name\", \"Is\", \"Vivek\", sep = \"_\", end = \"\\n\")\n",
    "print(\"Cool\")"
   ]
  },
  {
   "cell_type": "markdown",
   "id": "41094d50",
   "metadata": {},
   "source": [
    "# seperation and ending pyhton program"
   ]
  },
  {
   "cell_type": "code",
   "execution_count": 13,
   "id": "e2c9acbc",
   "metadata": {},
   "outputs": [
    {
     "name": "stdout",
     "output_type": "stream",
     "text": [
      "my_name_is_lokendra_hariom\n"
     ]
    }
   ],
   "source": [
    "print(\"my\", \"name\", \"is\", \"lokendra\", sep = \"_\",end = \"_\")\n",
    "print(\"hariom\")\n"
   ]
  },
  {
   "cell_type": "code",
   "execution_count": 14,
   "id": "1815d55c",
   "metadata": {},
   "outputs": [
    {
     "data": {
      "text/plain": [
       "'A'"
      ]
     },
     "execution_count": 14,
     "metadata": {},
     "output_type": "execute_result"
    }
   ],
   "source": [
    "chr(65)"
   ]
  },
  {
   "cell_type": "markdown",
   "id": "6f548c0b",
   "metadata": {},
   "source": [
    "# seperation and ending "
   ]
  },
  {
   "cell_type": "code",
   "execution_count": 15,
   "id": "f4876b08",
   "metadata": {
    "scrolled": true
   },
   "outputs": [
    {
     "name": "stdout",
     "output_type": "stream",
     "text": [
      "i _belong_to_bihar_saran_my address\n"
     ]
    }
   ],
   "source": [
    "print(\"i \",\"belong\", \"to\", \"bihar\", \"saran\", sep =\"_\", end =\"_\")\n",
    "print(\"my address\")"
   ]
  },
  {
   "cell_type": "code",
   "execution_count": 16,
   "id": "795777b9",
   "metadata": {},
   "outputs": [
    {
     "data": {
      "text/plain": [
       "3.9"
      ]
     },
     "execution_count": 16,
     "metadata": {},
     "output_type": "execute_result"
    }
   ],
   "source": [
    "39 / 10"
   ]
  },
  {
   "cell_type": "code",
   "execution_count": 17,
   "id": "c784ac24",
   "metadata": {},
   "outputs": [
    {
     "data": {
      "text/plain": [
       "3"
      ]
     },
     "execution_count": 17,
     "metadata": {},
     "output_type": "execute_result"
    }
   ],
   "source": [
    "39 // 10"
   ]
  },
  {
   "cell_type": "code",
   "execution_count": 18,
   "id": "f4b59c67",
   "metadata": {},
   "outputs": [
    {
     "data": {
      "text/plain": [
       "True"
      ]
     },
     "execution_count": 18,
     "metadata": {},
     "output_type": "execute_result"
    }
   ],
   "source": [
    "\"abc\" in \"abcd\""
   ]
  },
  {
   "cell_type": "code",
   "execution_count": 19,
   "id": "fa24b269",
   "metadata": {},
   "outputs": [
    {
     "data": {
      "text/plain": [
       "False"
      ]
     },
     "execution_count": 19,
     "metadata": {},
     "output_type": "execute_result"
    }
   ],
   "source": [
    "\"abc\" not in \"abcd\""
   ]
  },
  {
   "cell_type": "code",
   "execution_count": 20,
   "id": "a0a5aeaf",
   "metadata": {},
   "outputs": [
    {
     "name": "stderr",
     "output_type": "stream",
     "text": [
      "<>:1: SyntaxWarning: \"is\" with a literal. Did you mean \"==\"?\n",
      "<>:1: SyntaxWarning: \"is\" with a literal. Did you mean \"==\"?\n",
      "C:\\Users\\vk625\\AppData\\Local\\Temp\\ipykernel_28648\\1802974580.py:1: SyntaxWarning: \"is\" with a literal. Did you mean \"==\"?\n",
      "  10 is \"10\"\n"
     ]
    },
    {
     "data": {
      "text/plain": [
       "False"
      ]
     },
     "execution_count": 20,
     "metadata": {},
     "output_type": "execute_result"
    }
   ],
   "source": [
    "10 is \"10\""
   ]
  },
  {
   "cell_type": "code",
   "execution_count": 21,
   "id": "0a5864e2",
   "metadata": {},
   "outputs": [
    {
     "name": "stderr",
     "output_type": "stream",
     "text": [
      "<>:1: SyntaxWarning: \"is\" with a literal. Did you mean \"==\"?\n",
      "<>:1: SyntaxWarning: \"is\" with a literal. Did you mean \"==\"?\n",
      "C:\\Users\\vk625\\AppData\\Local\\Temp\\ipykernel_28648\\1599107646.py:1: SyntaxWarning: \"is\" with a literal. Did you mean \"==\"?\n",
      "  \"10\" is \"10\"\n"
     ]
    },
    {
     "data": {
      "text/plain": [
       "True"
      ]
     },
     "execution_count": 21,
     "metadata": {},
     "output_type": "execute_result"
    }
   ],
   "source": [
    "\"10\" is \"10\""
   ]
  },
  {
   "cell_type": "code",
   "execution_count": 22,
   "id": "e93f46de",
   "metadata": {},
   "outputs": [
    {
     "data": {
      "text/plain": [
       "False"
      ]
     },
     "execution_count": 22,
     "metadata": {},
     "output_type": "execute_result"
    }
   ],
   "source": [
    "10 == \"10\""
   ]
  },
  {
   "cell_type": "markdown",
   "id": "3f7b26de",
   "metadata": {},
   "source": [
    "# if else statement"
   ]
  },
  {
   "cell_type": "code",
   "execution_count": 29,
   "id": "93189804",
   "metadata": {
    "scrolled": true
   },
   "outputs": [
    {
     "name": "stdout",
     "output_type": "stream",
     "text": [
      "Enter the number5\n",
      "odd number\n"
     ]
    }
   ],
   "source": [
    "print(\"even number\") if int(input(\"Enter the number\"))%2==0 else print(\"odd number\")"
   ]
  },
  {
   "cell_type": "markdown",
   "id": "1b2d6e08",
   "metadata": {},
   "source": [
    "# check three input variable  which  is greatest"
   ]
  },
  {
   "cell_type": "code",
   "execution_count": 26,
   "id": "08a0bf2d",
   "metadata": {},
   "outputs": [
    {
     "name": "stdout",
     "output_type": "stream",
     "text": [
      "Enter the first number:-1\n",
      "Enter the second number:-2\n",
      "Enter the third number:-3\n",
      "c is greater than a and b\n"
     ]
    }
   ],
   "source": [
    "a=int(input(\"Enter the first number:-\"))\n",
    "b=int(input(\"Enter the second number:-\"))\n",
    "c=int(input(\"Enter the third number:-\"))\n",
    "if a>b and a>c:\n",
    "    print(\"a is greater than b and  c\") \n",
    "elif b>a and b>c:\n",
    "    print(\"b is greater than c and a\")\n",
    "else:\n",
    "    print(\"c is greater than a and b\")"
   ]
  },
  {
   "cell_type": "markdown",
   "id": "ad0ae65a",
   "metadata": {},
   "source": [
    "# check prime or no prime"
   ]
  },
  {
   "cell_type": "code",
   "execution_count": 31,
   "id": "3b47b14b",
   "metadata": {},
   "outputs": [
    {
     "name": "stdout",
     "output_type": "stream",
     "text": [
      "5\n",
      "prime number\n"
     ]
    }
   ],
   "source": [
    "n=int(input())\n",
    "count = 0\n",
    "for i in range(2,n +1): \n",
    "    if(n%i==0):\n",
    "        count+=1\n",
    "if(count==1):\n",
    "    print(\"prime number\")\n",
    "else:\n",
    "     print(\"no prime\")\n",
    "            "
   ]
  },
  {
   "cell_type": "markdown",
   "id": "656a1210",
   "metadata": {},
   "source": [
    "#  start to end program"
   ]
  },
  {
   "cell_type": "code",
   "execution_count": 49,
   "id": "d8e9584d",
   "metadata": {},
   "outputs": [
    {
     "name": "stdout",
     "output_type": "stream",
     "text": [
      "Enter the start number1\n",
      "Enter the end number900\n",
      "2\t3\t5\t7\t11\t13\t17\t19\t23\t29\t31\t37\t41\t43\t47\t53\t59\t61\t67\t71\t73\t79\t83\t89\t97\t101\t103\t107\t109\t113\t127\t131\t137\t139\t149\t151\t157\t163\t167\t173\t179\t181\t191\t193\t197\t199\t211\t223\t227\t229\t233\t239\t241\t251\t257\t263\t269\t271\t277\t281\t283\t293\t307\t311\t313\t317\t331\t337\t347\t349\t353\t359\t367\t373\t379\t383\t389\t397\t401\t409\t419\t421\t431\t433\t439\t443\t449\t457\t461\t463\t467\t479\t487\t491\t499\t503\t509\t521\t523\t541\t547\t557\t563\t569\t571\t577\t587\t593\t599\t601\t607\t613\t617\t619\t631\t641\t643\t647\t653\t659\t661\t673\t677\t683\t691\t701\t709\t719\t727\t733\t739\t743\t751\t757\t761\t769\t773\t787\t797\t809\t811\t821\t823\t827\t829\t839\t853\t857\t859\t863\t877\t881\t883\t887\t"
     ]
    }
   ],
   "source": [
    "start,end = int(input(\"Enter the start number\")),int(input(\"Enter the end number\"))\n",
    "for j in range(start, end + 1):\n",
    "    count = 0\n",
    "    for i in range (1,j + 1):\n",
    "        if(j % i == 0):\n",
    "            count += 1\n",
    "    if(count==2):\n",
    "        print(j,end = \"\\t\")"
   ]
  },
  {
   "cell_type": "code",
   "execution_count": 2,
   "id": "aea18b5d",
   "metadata": {},
   "outputs": [
    {
     "ename": "SyntaxError",
     "evalue": "expected ':' (2748665255.py, line 3)",
     "output_type": "error",
     "traceback": [
      "\u001b[1;36m  Cell \u001b[1;32mIn[2], line 3\u001b[1;36m\u001b[0m\n\u001b[1;33m    for i in range(a,n)\u001b[0m\n\u001b[1;37m                       ^\u001b[0m\n\u001b[1;31mSyntaxError\u001b[0m\u001b[1;31m:\u001b[0m expected ':'\n"
     ]
    }
   ],
   "source": [
    "n=int(input())\n",
    "a=123\n",
    "for i in range(a,n)"
   ]
  },
  {
   "cell_type": "code",
   "execution_count": 9,
   "id": "48f69da5",
   "metadata": {},
   "outputs": [
    {
     "name": "stdout",
     "output_type": "stream",
     "text": [
      "0\n",
      "1\n",
      "2\n",
      "3\n",
      "4\n",
      "6\n",
      "7\n",
      "8\n",
      "9\n",
      "10\n"
     ]
    }
   ],
   "source": [
    "for i in range(11):\n",
    "    if(i==5):\n",
    "        continue\n",
    "    print(i)   "
   ]
  },
  {
   "cell_type": "code",
   "execution_count": 13,
   "id": "99f50da0",
   "metadata": {},
   "outputs": [
    {
     "name": "stdout",
     "output_type": "stream",
     "text": [
      "45\n",
      "the number is odd number\n",
      "45\n"
     ]
    }
   ],
   "source": [
    "num =int(input())\n",
    "for i in range(num):\n",
    "    if(num//2==0):\n",
    "        print(\"the number is even number\")\n",
    "else:\n",
    "    print(\"the number is odd number\")\n"
   ]
  },
  {
   "cell_type": "code",
   "execution_count": null,
   "id": "6f1da0bf",
   "metadata": {},
   "outputs": [],
   "source": [
    "start,end = int(input()),int(input())\n",
    "for i in range (start,end+1):\n",
    "    count=0\n",
    "    for j in range(1,i+1):\n",
    "        if i%j==0:\n",
    "            count+=1\n",
    "if count==2:\n",
    "    if i%2==0:\n",
    "        even-count+1\n",
    "        else\n",
    "        odd-\n",
    "\n"
   ]
  },
  {
   "cell_type": "markdown",
   "id": "5ec4859d",
   "metadata": {},
   "source": [
    "# even and odd pprime number check"
   ]
  },
  {
   "cell_type": "code",
   "execution_count": 14,
   "id": "e79dfe44",
   "metadata": {},
   "outputs": [
    {
     "name": "stdout",
     "output_type": "stream",
     "text": [
      "Enter the start range: 1\n",
      "Enter the end range: 100\n",
      "Even Prime Numbers:  1\n",
      "Odd Prime Numbers:  24\n"
     ]
    }
   ],
   "source": [
    "start, end = int(input(\"Enter the start range: \")), int(input(\"Enter the end range: \"))\n",
    "even_count, odd_count = 0, 0\n",
    "for i in range(start, end + 1):\n",
    "    count = 0\n",
    "    for j in range(1, i + 1):\n",
    "        if i % j == 0:\n",
    "            count += 1\n",
    "    if count == 2:\n",
    "        if i % 2 == 0:\n",
    "            even_count += 1\n",
    "        else:\n",
    "            odd_count += 1\n",
    "print(\"Even Prime Numbers: \", even_count)\n",
    "print(\"Odd Prime Numbers: \", odd_count)"
   ]
  },
  {
   "cell_type": "markdown",
   "id": "06f19f04",
   "metadata": {},
   "source": [
    "# check armstrong number"
   ]
  },
  {
   "cell_type": "code",
   "execution_count": 40,
   "id": "d26e6b02",
   "metadata": {
    "scrolled": true
   },
   "outputs": [
    {
     "name": "stdout",
     "output_type": "stream",
     "text": [
      "Enter the number153\n",
      "Armstrong number\n"
     ]
    }
   ],
   "source": [
    "num = int(input(\"Enter the number\"))\n",
    "arm = 0\n",
    "temp = num\n",
    "while num != 0:\n",
    "    rem = num%10\n",
    "    arm = arm + rem ** 3\n",
    "    num = num  // 10\n",
    "if temp == arm:\n",
    "    print(\"Armstrong number\")\n",
    "else:\n",
    "    print(\"no armstrong number\")"
   ]
  },
  {
   "cell_type": "markdown",
   "id": "edb637ca",
   "metadata": {},
   "source": [
    "# sum of the number of total suppose(124(1+2+4)= 7)"
   ]
  },
  {
   "cell_type": "code",
   "execution_count": 39,
   "id": "1252a142",
   "metadata": {},
   "outputs": [
    {
     "name": "stdout",
     "output_type": "stream",
     "text": [
      "567\n",
      "result 0\n"
     ]
    }
   ],
   "source": [
    "n= int(input())\n",
    "result= 0\n",
    "while num!=0:\n",
    "    rem =num%10\n",
    "    result += rem\n",
    "    num //= 10\n",
    "print(\"Result:\", result)\n",
    "\n",
    "    "
   ]
  },
  {
   "cell_type": "markdown",
   "id": "da0fc806",
   "metadata": {},
   "source": [
    "# check the number is it pallindron or not"
   ]
  },
  {
   "cell_type": "code",
   "execution_count": 6,
   "id": "b3e4d45b",
   "metadata": {
    "scrolled": false
   },
   "outputs": [
    {
     "name": "stdout",
     "output_type": "stream",
     "text": [
      "Enter any number for checking the pallindrone number656\n",
      "pallindrone number\n"
     ]
    }
   ],
   "source": [
    "n= int(input(\"Enter any number for checking the pallindrone number\"))\n",
    "temp = n\n",
    "sum = 0\n",
    "while(n>0):\n",
    "    digit = n%10\n",
    "    sum = (sum*10)+digit\n",
    "    n = n//10\n",
    "if temp==sum:\n",
    "        print(\"pallindrone number\")\n",
    "else:\n",
    "        print(\"no pallindrone number\")\n"
   ]
  },
  {
   "cell_type": "markdown",
   "id": "3d508128",
   "metadata": {},
   "source": [
    "# python calculator"
   ]
  },
  {
   "cell_type": "code",
   "execution_count": 19,
   "id": "934c953d",
   "metadata": {},
   "outputs": [
    {
     "name": "stdout",
     "output_type": "stream",
     "text": [
      "Enter the first number:-45\n",
      "Enter the second number:-89\n",
      "choose and operater(+,-,* //)  +\n",
      "134\n"
     ]
    }
   ],
   "source": [
    "num1 = int(input(\"Enter the first number:-\"))\n",
    "num2 = int(input(\"Enter the second number:-\"))\n",
    "opr= input(\"choose and operater(+,-,* //)  \")\n",
    "if opr==\"+\":\n",
    "    print(num1 + num2)\n",
    "elif opr==\"-\":\n",
    "    print(num1 - num2)\n",
    "elif opr==\"*\":\n",
    "    print(num1 * num2)\n",
    "elif opr==\"%\":\n",
    "    print(num1 % num2)\n",
    "elif opr==\"/\":\n",
    "    print(num1 / num2)\n",
    "else:\n",
    "    print(\"invalid operator\")\n"
   ]
  },
  {
   "cell_type": "markdown",
   "id": "7420af69",
   "metadata": {},
   "source": [
    "# python factorial programming"
   ]
  },
  {
   "cell_type": "code",
   "execution_count": 5,
   "id": "ce1e1370",
   "metadata": {},
   "outputs": [
    {
     "name": "stdout",
     "output_type": "stream",
     "text": [
      "Enter the number for factorial:-9\n",
      "factorial of :-num 362880\n"
     ]
    }
   ],
   "source": [
    "num = int(input(\"Enter the number for factorial:-\"))\n",
    "fact = 1\n",
    "for i in range(1,num+1):\n",
    "    fact = fact*i\n",
    "print(\"factorial of :-num\", fact)\n"
   ]
  },
  {
   "cell_type": "markdown",
   "id": "77e3efdb",
   "metadata": {},
   "source": [
    "# calculator choosing by choice (men_udriven)"
   ]
  },
  {
   "cell_type": "code",
   "execution_count": 4,
   "id": "710b3925",
   "metadata": {},
   "outputs": [
    {
     "name": "stdout",
     "output_type": "stream",
     "text": [
      " =================================\n",
      " ===============MENU============\n",
      "1. ===ADD OF TWO NUMBERS===========\n",
      "2. ==SUBSTRACTION OF TWO NUMBER======\n",
      "3. =====multiple of two number=\n",
      "4. =====division of two numbers\n",
      "7. ==========Moduals===========\n",
      "6. ===========floor divison===========\n",
      "7. ================EXIT===========\n",
      "choose (1 -7):-1\n",
      "Enter the first number:34\n",
      "Enter the second number:-78\n",
      "two number of add 112\n",
      " =================================\n",
      " ===============MENU============\n",
      "1. ===ADD OF TWO NUMBERS===========\n",
      "2. ==SUBSTRACTION OF TWO NUMBER======\n",
      "3. =====multiple of two number=\n",
      "4. =====division of two numbers\n",
      "7. ==========Moduals===========\n",
      "6. ===========floor divison===========\n",
      "7. ================EXIT===========\n",
      "choose (1 -7):-exit\n"
     ]
    }
   ],
   "source": [
    "while True:\n",
    "    print(\" =================================\")\n",
    "    print(\" ===============MENU============\")\n",
    "    print(\"1. ===ADD OF TWO NUMBERS===========\")\n",
    "    print(\"2. ==SUBSTRACTION OF TWO NUMBER======\")\n",
    "    print(\"3. =====multiple of two number=\")\n",
    "    print(\"4. =====division of two numbers\")\n",
    "    print(\"7. ==========Moduals===========\")\n",
    "    print(\"6. ===========float divison===========\")\n",
    "    print(\"7. ================EXIT===========\")\n",
    "    option = input(\"choose (1 -7):-\")\n",
    "    if option==\"exit\":\n",
    "        break\n",
    "    a,b= int(input(\"Enter the first number:\")), int(input(\"Enter the second number:-\"))\n",
    "    if option==\"1\":\n",
    "        print(\"two number of add\", a+b)\n",
    "    elif option==\"2\":\n",
    "        print(\"two number of add\", a-b)\n",
    "    elif option==\"3\":\n",
    "        print(\"two number of add\", a*b)\n",
    "    elif option==\"4\":\n",
    "        print(\"two number of add\", a/b)\n",
    "    elif option==\"5\":\n",
    "        print(\"two number of add\", a%b)\n",
    "    elif option==\"6\":\n",
    "        print(\"two number of add\", a//b)"
   ]
  },
  {
   "cell_type": "code",
   "execution_count": 1,
   "id": "2f353cd6",
   "metadata": {},
   "outputs": [
    {
     "name": "stdout",
     "output_type": "stream",
     "text": [
      " =================================\n",
      " ===============MENU============\n",
      "1. ===Area of circle===========\n",
      "2. ==Area of  square==\n",
      "3. ====Area of quadilateral=\n",
      "4. ====Area of triangle====\n",
      "5. =====EXIT=====\n",
      "choose (1 -5):-1\n",
      "Enter the number for area of circle  5\n",
      "Area of circle:- 78.5\n",
      " =================================\n",
      " ===============MENU============\n",
      "1. ===Area of circle===========\n",
      "2. ==Area of  square==\n",
      "3. ====Area of quadilateral=\n",
      "4. ====Area of triangle====\n",
      "5. =====EXIT=====\n",
      "choose (1 -5):-exit\n"
     ]
    }
   ],
   "source": [
    "while True:\n",
    "    print(\" =================================\")\n",
    "    print(\" ===============MENU============\")\n",
    "    print(\"1. ===Area of circle===========\")\n",
    "    print(\"2. ==Area of  square==\")\n",
    "    print(\"3. ====Area of quadilateral=\")\n",
    "    print(\"4. ====Area of triangle====\")\n",
    "    print(\"5. =====EXIT=====\")\n",
    "    option = input(\"choose (1 -5):-\")\n",
    "    if option==\"exit\":\n",
    "        break\n",
    "    if option==\"1\":\n",
    "        r= int(input(\"Enter the number for area of circle  \"))\n",
    "        print(\"Area of circle:-\",(3.14 * r * r) )\n",
    "    elif option==\"2\":\n",
    "        a = int(input(\"Enter the number for find the area of square:-\"))\n",
    "        print(\"Area of square:-\" ,(a*a))\n",
    "    elif option==\"3\":\n",
    "        a,b = int(input(\"Enter the length \")),int(input(\"Enter the breadth\"))\n",
    "        print(\"Area of quadilateral\",(a*b))\n",
    "    elif option==\"4\":\n",
    "        b,h = int(input(\"Enter the base of triangle:-\")), int(input(\"Enter the height of triangle:-\"))\n",
    "        print(\"Area of triangle\",(b *h)/2)"
   ]
  },
  {
   "cell_type": "code",
   "execution_count": 17,
   "id": "702d6529",
   "metadata": {
    "scrolled": false
   },
   "outputs": [
    {
     "name": "stdout",
     "output_type": "stream",
     "text": [
      "Enter the number for print the table:-5\n",
      "5 *1 = 5\n",
      "5 *2 = 10\n",
      "5 *3 = 15\n",
      "5 *4 = 20\n",
      "5 *5 = 25\n",
      "5 *6 = 30\n",
      "5 *7 = 35\n",
      "5 *8 = 40\n",
      "5 *9 = 45\n",
      "5 *10 = 50\n"
     ]
    }
   ],
   "source": [
    "num = int(input(\"Enter the number for print the table:-\"))\n",
    "for i in range(1, 11):\n",
    "    print(\"{} *{} = {}\".format(num, i, num*i))"
   ]
  },
  {
   "cell_type": "code",
   "execution_count": null,
   "id": "0217b303",
   "metadata": {},
   "outputs": [],
   "source": []
  },
  {
   "cell_type": "code",
   "execution_count": null,
   "id": "ad38f84c",
   "metadata": {},
   "outputs": [],
   "source": []
  },
  {
   "cell_type": "code",
   "execution_count": 9,
   "id": "70e8fd54",
   "metadata": {},
   "outputs": [
    {
     "name": "stdout",
     "output_type": "stream",
     "text": [
      "Enter Name: hariom kumar vishwakarma\n"
     ]
    }
   ],
   "source": [
    "name=input(\"Enter Name: \")"
   ]
  },
  {
   "cell_type": "code",
   "execution_count": 11,
   "id": "7c81b69d",
   "metadata": {},
   "outputs": [],
   "source": [
    "first,middle,last=name.split(\" \")"
   ]
  },
  {
   "cell_type": "code",
   "execution_count": 12,
   "id": "11de2d64",
   "metadata": {},
   "outputs": [
    {
     "data": {
      "text/plain": [
       "'hariom kumar vishwakarma'"
      ]
     },
     "execution_count": 12,
     "metadata": {},
     "output_type": "execute_result"
    }
   ],
   "source": [
    "\" \".join([first,middle,last])"
   ]
  },
  {
   "cell_type": "code",
   "execution_count": 13,
   "id": "8f87aa38",
   "metadata": {},
   "outputs": [
    {
     "data": {
      "text/plain": [
       "'HARIOM KUMAR VISHWAKARMA'"
      ]
     },
     "execution_count": 13,
     "metadata": {},
     "output_type": "execute_result"
    }
   ],
   "source": [
    "name.upper()"
   ]
  },
  {
   "cell_type": "code",
   "execution_count": 14,
   "id": "064185be",
   "metadata": {},
   "outputs": [
    {
     "data": {
      "text/plain": [
       "'hariom kumar vishwakarma'"
      ]
     },
     "execution_count": 14,
     "metadata": {},
     "output_type": "execute_result"
    }
   ],
   "source": [
    "name.lower()"
   ]
  },
  {
   "cell_type": "code",
   "execution_count": 15,
   "id": "11c6dea1",
   "metadata": {},
   "outputs": [
    {
     "data": {
      "text/plain": [
       "'Hariom kumar vishwakarma'"
      ]
     },
     "execution_count": 15,
     "metadata": {},
     "output_type": "execute_result"
    }
   ],
   "source": [
    "name.capitalize() #frist latter capital in whole stantance"
   ]
  },
  {
   "cell_type": "code",
   "execution_count": 16,
   "id": "674eb2cf",
   "metadata": {},
   "outputs": [
    {
     "data": {
      "text/plain": [
       "'Hariom Kumar Vishwakarma'"
      ]
     },
     "execution_count": 16,
     "metadata": {},
     "output_type": "execute_result"
    }
   ],
   "source": [
    "name.title()#first name capital in each word"
   ]
  },
  {
   "cell_type": "code",
   "execution_count": 17,
   "id": "5ae3d62b",
   "metadata": {},
   "outputs": [
    {
     "data": {
      "text/plain": [
       "24"
      ]
     },
     "execution_count": 17,
     "metadata": {},
     "output_type": "execute_result"
    }
   ],
   "source": [
    "len(name)#it count the charecter in the sentance"
   ]
  },
  {
   "cell_type": "code",
   "execution_count": 18,
   "id": "4255642d",
   "metadata": {},
   "outputs": [
    {
     "data": {
      "text/plain": [
       "3"
      ]
     },
     "execution_count": 18,
     "metadata": {},
     "output_type": "execute_result"
    }
   ],
   "source": [
    "len(name.split()) #word count in a stetament"
   ]
  },
  {
   "cell_type": "code",
   "execution_count": 19,
   "id": "24b4af48",
   "metadata": {},
   "outputs": [
    {
     "data": {
      "text/plain": [
       "'=========== center============'"
      ]
     },
     "execution_count": 19,
     "metadata": {},
     "output_type": "execute_result"
    }
   ],
   "source": [
    "\" center\".center(30,\"=\") #it use for print word in center"
   ]
  },
  {
   "cell_type": "code",
   "execution_count": 20,
   "id": "cfa57b8c",
   "metadata": {},
   "outputs": [
    {
     "data": {
      "text/plain": [
       "5"
      ]
     },
     "execution_count": 20,
     "metadata": {},
     "output_type": "execute_result"
    }
   ],
   "source": [
    "name.count(\"a\")#it count the cahrecter which present in the  sentence "
   ]
  },
  {
   "cell_type": "markdown",
   "id": "44c2e799",
   "metadata": {},
   "source": [
    "# string slising"
   ]
  },
  {
   "cell_type": "code",
   "execution_count": 21,
   "id": "d1331b13",
   "metadata": {},
   "outputs": [
    {
     "data": {
      "text/plain": [
       "'ar vis'"
      ]
     },
     "execution_count": 21,
     "metadata": {},
     "output_type": "execute_result"
    }
   ],
   "source": [
    "name[10:16]# (:)is slice opreter "
   ]
  },
  {
   "cell_type": "code",
   "execution_count": null,
   "id": "cb36a69c",
   "metadata": {},
   "outputs": [],
   "source": [
    "'''''\n",
    "[star,end,step ]\n",
    "    \n",
    "[0,-1,1]''' #defult value"
   ]
  },
  {
   "cell_type": "code",
   "execution_count": 27,
   "id": "f4fe2fba",
   "metadata": {
    "scrolled": true
   },
   "outputs": [
    {
     "data": {
      "text/plain": [
       "'hariom kumar vishwakarma'"
      ]
     },
     "execution_count": 27,
     "metadata": {},
     "output_type": "execute_result"
    }
   ],
   "source": [
    "name[:]#it print start to end stetment"
   ]
  },
  {
   "cell_type": "code",
   "execution_count": 24,
   "id": "32e9d8c9",
   "metadata": {},
   "outputs": [
    {
     "data": {
      "text/plain": [
       "'k'"
      ]
     },
     "execution_count": 24,
     "metadata": {},
     "output_type": "execute_result"
    }
   ],
   "source": [
    "name[7]#it print the charecter which present in index 7"
   ]
  },
  {
   "cell_type": "code",
   "execution_count": 28,
   "id": "23926797",
   "metadata": {},
   "outputs": [
    {
     "data": {
      "text/plain": [
       "'kumar vishwakarma'"
      ]
     },
     "execution_count": 28,
     "metadata": {},
     "output_type": "execute_result"
    }
   ],
   "source": [
    "name[7:]# it start to index 7 to end"
   ]
  },
  {
   "cell_type": "code",
   "execution_count": 29,
   "id": "1c72ad44",
   "metadata": {},
   "outputs": [
    {
     "data": {
      "text/plain": [
       "'hariom'"
      ]
     },
     "execution_count": 29,
     "metadata": {},
     "output_type": "execute_result"
    }
   ],
   "source": [
    "name[:6]#it print start to index 6"
   ]
  },
  {
   "cell_type": "code",
   "execution_count": 30,
   "id": "fb035bf8",
   "metadata": {},
   "outputs": [
    {
     "data": {
      "text/plain": [
       "'amrakawhsiv ramuk moirah'"
      ]
     },
     "execution_count": 30,
     "metadata": {},
     "output_type": "execute_result"
    }
   ],
   "source": [
    "name[: : -1]#it reverce all the charecter which present in the sentence"
   ]
  },
  {
   "cell_type": "code",
   "execution_count": 31,
   "id": "410002aa",
   "metadata": {},
   "outputs": [
    {
     "name": "stdout",
     "output_type": "stream",
     "text": [
      "h\n",
      "a\n",
      "r\n",
      "i\n",
      "o\n",
      "m\n",
      " \n",
      "k\n",
      "u\n",
      "m\n",
      "a\n",
      "r\n",
      " \n",
      "v\n",
      "i\n",
      "s\n",
      "h\n",
      "w\n",
      "a\n",
      "k\n",
      "a\n",
      "r\n",
      "m\n",
      "a\n"
     ]
    }
   ],
   "source": [
    "for i in name: # looping throw string it go all charecter induvisualy and print\n",
    "    print(i)"
   ]
  },
  {
   "cell_type": "code",
   "execution_count": 37,
   "id": "58a66e18",
   "metadata": {},
   "outputs": [
    {
     "name": "stdout",
     "output_type": "stream",
     "text": [
      "24\n"
     ]
    }
   ],
   "source": [
    "count=0\n",
    "for i in name:\n",
    "    count+=1\n",
    "print(count)\n"
   ]
  },
  {
   "cell_type": "markdown",
   "id": "0611aa60",
   "metadata": {},
   "source": [
    "# count the duplicate character in the string "
   ]
  },
  {
   "cell_type": "code",
   "execution_count": 1,
   "id": "02911896",
   "metadata": {},
   "outputs": [
    {
     "ename": "KeyboardInterrupt",
     "evalue": "Interrupted by user",
     "output_type": "error",
     "traceback": [
      "\u001b[1;31m---------------------------------------------------------------------------\u001b[0m",
      "\u001b[1;31mKeyboardInterrupt\u001b[0m                         Traceback (most recent call last)",
      "Cell \u001b[1;32mIn[1], line 1\u001b[0m\n\u001b[1;32m----> 1\u001b[0m string\u001b[38;5;241m=\u001b[39m\u001b[38;5;28minput\u001b[39m(\u001b[38;5;124m\"\u001b[39m\u001b[38;5;124mEnter the name\u001b[39m\u001b[38;5;124m\"\u001b[39m)\n\u001b[0;32m      2\u001b[0m count\u001b[38;5;241m=\u001b[39m\u001b[38;5;241m0\u001b[39m\n\u001b[0;32m      3\u001b[0m temp\u001b[38;5;241m=\u001b[39m\u001b[38;5;124m\"\u001b[39m\u001b[38;5;124m\"\u001b[39m\n",
      "File \u001b[1;32mC:\\ProgramData\\anaconda3\\Lib\\site-packages\\ipykernel\\kernelbase.py:1175\u001b[0m, in \u001b[0;36mKernel.raw_input\u001b[1;34m(self, prompt)\u001b[0m\n\u001b[0;32m   1171\u001b[0m \u001b[38;5;28;01mif\u001b[39;00m \u001b[38;5;129;01mnot\u001b[39;00m \u001b[38;5;28mself\u001b[39m\u001b[38;5;241m.\u001b[39m_allow_stdin:\n\u001b[0;32m   1172\u001b[0m     \u001b[38;5;28;01mraise\u001b[39;00m StdinNotImplementedError(\n\u001b[0;32m   1173\u001b[0m         \u001b[38;5;124m\"\u001b[39m\u001b[38;5;124mraw_input was called, but this frontend does not support input requests.\u001b[39m\u001b[38;5;124m\"\u001b[39m\n\u001b[0;32m   1174\u001b[0m     )\n\u001b[1;32m-> 1175\u001b[0m \u001b[38;5;28;01mreturn\u001b[39;00m \u001b[38;5;28mself\u001b[39m\u001b[38;5;241m.\u001b[39m_input_request(\n\u001b[0;32m   1176\u001b[0m     \u001b[38;5;28mstr\u001b[39m(prompt),\n\u001b[0;32m   1177\u001b[0m     \u001b[38;5;28mself\u001b[39m\u001b[38;5;241m.\u001b[39m_parent_ident[\u001b[38;5;124m\"\u001b[39m\u001b[38;5;124mshell\u001b[39m\u001b[38;5;124m\"\u001b[39m],\n\u001b[0;32m   1178\u001b[0m     \u001b[38;5;28mself\u001b[39m\u001b[38;5;241m.\u001b[39mget_parent(\u001b[38;5;124m\"\u001b[39m\u001b[38;5;124mshell\u001b[39m\u001b[38;5;124m\"\u001b[39m),\n\u001b[0;32m   1179\u001b[0m     password\u001b[38;5;241m=\u001b[39m\u001b[38;5;28;01mFalse\u001b[39;00m,\n\u001b[0;32m   1180\u001b[0m )\n",
      "File \u001b[1;32mC:\\ProgramData\\anaconda3\\Lib\\site-packages\\ipykernel\\kernelbase.py:1217\u001b[0m, in \u001b[0;36mKernel._input_request\u001b[1;34m(self, prompt, ident, parent, password)\u001b[0m\n\u001b[0;32m   1214\u001b[0m             \u001b[38;5;28;01mbreak\u001b[39;00m\n\u001b[0;32m   1215\u001b[0m \u001b[38;5;28;01mexcept\u001b[39;00m \u001b[38;5;167;01mKeyboardInterrupt\u001b[39;00m:\n\u001b[0;32m   1216\u001b[0m     \u001b[38;5;66;03m# re-raise KeyboardInterrupt, to truncate traceback\u001b[39;00m\n\u001b[1;32m-> 1217\u001b[0m     \u001b[38;5;28;01mraise\u001b[39;00m \u001b[38;5;167;01mKeyboardInterrupt\u001b[39;00m(\u001b[38;5;124m\"\u001b[39m\u001b[38;5;124mInterrupted by user\u001b[39m\u001b[38;5;124m\"\u001b[39m) \u001b[38;5;28;01mfrom\u001b[39;00m \u001b[38;5;28;01mNone\u001b[39;00m\n\u001b[0;32m   1218\u001b[0m \u001b[38;5;28;01mexcept\u001b[39;00m \u001b[38;5;167;01mException\u001b[39;00m:\n\u001b[0;32m   1219\u001b[0m     \u001b[38;5;28mself\u001b[39m\u001b[38;5;241m.\u001b[39mlog\u001b[38;5;241m.\u001b[39mwarning(\u001b[38;5;124m\"\u001b[39m\u001b[38;5;124mInvalid Message:\u001b[39m\u001b[38;5;124m\"\u001b[39m, exc_info\u001b[38;5;241m=\u001b[39m\u001b[38;5;28;01mTrue\u001b[39;00m)\n",
      "\u001b[1;31mKeyboardInterrupt\u001b[0m: Interrupted by user"
     ]
    }
   ],
   "source": [
    "string=input(\"Enter the name\")\n",
    "count=0\n",
    "temp=\"\"\n",
    "for i in string:\n",
    "    if i not in temp:\n",
    "        temp+=i\n",
    "        if string.count(i)>1:\n",
    "            count+=1\n",
    "print(count)\n",
    "print(temp)"
   ]
  },
  {
   "cell_type": "markdown",
   "id": "c432374b",
   "metadata": {},
   "source": [
    "# Python program to interchange first and last elements in a list\n"
   ]
  },
  {
   "cell_type": "code",
   "execution_count": 6,
   "id": "15bde812",
   "metadata": {},
   "outputs": [
    {
     "name": "stdout",
     "output_type": "stream",
     "text": [
      "[24, 36, 9, 23, 12]\n"
     ]
    }
   ],
   "source": [
    "n=[12,36,9,23,24]\n",
    "size=len(n)\n",
    "temp=n[0]\n",
    "n[0]=n[size-1]\n",
    "n[size-1]=temp\n",
    "print(n)"
   ]
  },
  {
   "cell_type": "markdown",
   "id": "02ea6dbe",
   "metadata": {},
   "source": [
    "# write a python program to swap the two number in the list"
   ]
  },
  {
   "cell_type": "code",
   "execution_count": 9,
   "id": "2cbb4847",
   "metadata": {},
   "outputs": [
    {
     "name": "stdout",
     "output_type": "stream",
     "text": [
      "[44, 33, 12, 54, 76, 87]\n"
     ]
    }
   ],
   "source": [
    "n=[12,33,44,54,76,87]\n",
    "size=len(n)\n",
    "temp=n[0]\n",
    "n[0]=n[2]\n",
    "n[2]=temp\n",
    "print(n)"
   ]
  },
  {
   "cell_type": "markdown",
   "id": "34f7c3ad",
   "metadata": {},
   "source": [
    "# way to find length of string"
   ]
  },
  {
   "cell_type": "code",
   "execution_count": 12,
   "id": "aba3cbe6",
   "metadata": {},
   "outputs": [
    {
     "name": "stdout",
     "output_type": "stream",
     "text": [
      "length of string is  7\n"
     ]
    }
   ],
   "source": [
    "list=[45,3,6,4,75,76,76]\n",
    "print(\"length of string is \",len(list))"
   ]
  },
  {
   "cell_type": "markdown",
   "id": "7a7238be",
   "metadata": {},
   "source": [
    "# maximum find of two number"
   ]
  },
  {
   "cell_type": "code",
   "execution_count": 15,
   "id": "e545d62c",
   "metadata": {},
   "outputs": [
    {
     "name": "stdout",
     "output_type": "stream",
     "text": [
      "Entert the first number:- 44\n",
      "Enter the second number:- 1\n",
      "44\n"
     ]
    }
   ],
   "source": [
    "''''a,b=int(input(\"First number:- \")),int(input(\"Second number:- \"))\n",
    "print(max(a,b))'''\n",
    "\n",
    "#second method\n",
    "a,b=int(input(\"Entert the first number:- \")),int(input(\"Enter the second number:- \"))\n",
    "if a>b:\n",
    "    print(a)\n",
    "elif b>b:\n",
    "    print(b)"
   ]
  },
  {
   "cell_type": "markdown",
   "id": "1af0846a",
   "metadata": {},
   "source": [
    "# minimum of two number"
   ]
  },
  {
   "cell_type": "code",
   "execution_count": 17,
   "id": "b0ff8131",
   "metadata": {},
   "outputs": [
    {
     "name": "stdout",
     "output_type": "stream",
     "text": [
      "Entert the first number:- 45\n",
      "Enter the second number:- 5\n",
      "5\n"
     ]
    }
   ],
   "source": [
    "''''a,b=int(input(\"Entert the first number:- \")),int(input(\"Enter the second number:- \"))\n",
    "print(min(a,b))'''\n",
    "\n",
    "#second method\n",
    "a,b=int(input(\"Entert the first number:- \")),int(input(\"Enter the second number:- \"))\n",
    "if a>b:\n",
    "    print(b)\n",
    "elif b>a:\n",
    "    print(a)"
   ]
  },
  {
   "cell_type": "markdown",
   "id": "966ea04b",
   "metadata": {},
   "source": [
    "# way to check number is exist in list are not"
   ]
  },
  {
   "cell_type": "code",
   "execution_count": 28,
   "id": "908bf798",
   "metadata": {},
   "outputs": [
    {
     "name": "stdout",
     "output_type": "stream",
     "text": [
      "Enter the number:- 12\n",
      "Not exist  12\n"
     ]
    }
   ],
   "source": [
    "lis=[78,4,53,223,454,65,98]\n",
    "n=int(input(\"Enter the number:- \"))\n",
    "if n in lis:\n",
    "    print(\"exist\",n)\n",
    "else:\n",
    "    print(\"Not exist \",n)"
   ]
  },
  {
   "cell_type": "markdown",
   "id": "1848397e",
   "metadata": {},
   "source": [
    "# way to clear the list"
   ]
  },
  {
   "cell_type": "code",
   "execution_count": 30,
   "id": "7ff50c41",
   "metadata": {},
   "outputs": [
    {
     "name": "stdout",
     "output_type": "stream",
     "text": [
      "Your list is  [12, 74, 42, 98]\n",
      "list is clear []\n"
     ]
    }
   ],
   "source": [
    "lis=[12,74,42,98]\n",
    "print(\"Your list is \",lis)\n",
    "lis.clear()# clear function is used to clear the value in the list\n",
    "print(\"list is clear\",lis)"
   ]
  },
  {
   "cell_type": "markdown",
   "id": "69c63698",
   "metadata": {},
   "source": [
    "# way to revercing the list"
   ]
  },
  {
   "cell_type": "code",
   "execution_count": 33,
   "id": "5f71df46",
   "metadata": {},
   "outputs": [
    {
     "name": "stdout",
     "output_type": "stream",
     "text": [
      "Before revarcing  [12, 74, 42, 98]\n",
      "After revercing  [98, 42, 74, 12]\n"
     ]
    }
   ],
   "source": [
    "lis=[12,74,42,98]\n",
    "print(\"Before revarcing \",lis)\n",
    "rev=lis[: : -1]\n",
    "print(\"After revercing \",rev)"
   ]
  },
  {
   "cell_type": "markdown",
   "id": "c5067dc1",
   "metadata": {},
   "source": [
    "# way to copy the value of variable"
   ]
  },
  {
   "cell_type": "code",
   "execution_count": 36,
   "id": "a9bd51e2",
   "metadata": {},
   "outputs": [
    {
     "name": "stdout",
     "output_type": "stream",
     "text": [
      "Before copy  [23, 4, 54, 56, 76, 22]\n",
      "After copy  [23, 4, 54, 56, 76, 22]\n"
     ]
    }
   ],
   "source": [
    "''''#using oprater \n",
    "lis1=[12,74,42,98]\n",
    "lis2=lis1\n",
    "print(\"Without copy \",lis1)\n",
    "print(\"copyed \",lis2)'''\n",
    "\n",
    "# Using the copy() method\n",
    "lis1=[23,4,54,56,76,22]\n",
    "lis2=lis1.copy()\n",
    "print(\"Before copy \",lis1)\n",
    "print(\"After copy \",lis2)"
   ]
  },
  {
   "cell_type": "markdown",
   "id": "692545e6",
   "metadata": {},
   "source": [
    "# print capital number space in even number"
   ]
  },
  {
   "cell_type": "code",
   "execution_count": 13,
   "id": "68d4df7d",
   "metadata": {},
   "outputs": [
    {
     "name": "stdout",
     "output_type": "stream",
     "text": [
      "Enter the string: hariom\n",
      "HaRiOm"
     ]
    }
   ],
   "source": [
    "name=input(\"Enter the string: \")\n",
    "for i in range(len(name)):\n",
    "    if i%2==0:\n",
    "         print(name[i].upper(),end=\"\")\n",
    "    else:\n",
    "        print(name[i].lower(),end=\"\")\n"
   ]
  },
  {
   "cell_type": "markdown",
   "id": "ff562b97",
   "metadata": {},
   "source": [
    "# search substring in string"
   ]
  },
  {
   "cell_type": "code",
   "execution_count": 22,
   "id": "34c0d581",
   "metadata": {},
   "outputs": [
    {
     "name": "stdout",
     "output_type": "stream",
     "text": [
      "frist string 2: hariom\n",
      "second string 1: hariom vish\n",
      "True\n"
     ]
    }
   ],
   "source": [
    "print(True) if input(\"frist string 2: \") in input(\"second string 1: \") else print(False)"
   ]
  },
  {
   "cell_type": "markdown",
   "id": "4f037551",
   "metadata": {},
   "source": [
    "# count the string and number "
   ]
  },
  {
   "cell_type": "markdown",
   "id": "00756606",
   "metadata": {},
   "source": [
    "string=input(\"Enter the string: \")\n",
    "count=0\n",
    "char=0\n",
    "for i in string:\n",
    "    if i.isalpha():\n",
    "        char+=1\n",
    "    elif i.isdigit():\n",
    "        count+=1\n",
    "print(count)\n",
    "print(char)"
   ]
  },
  {
   "cell_type": "markdown",
   "id": "023d9ba1",
   "metadata": {},
   "source": [
    "# print unic character"
   ]
  },
  {
   "cell_type": "code",
   "execution_count": 40,
   "id": "ca83d0c0",
   "metadata": {},
   "outputs": [
    {
     "name": "stdout",
     "output_type": "stream",
     "text": [
      "Enter first string: abcde\n",
      "Enter the second string abcdxy\n",
      "x\ty\t"
     ]
    }
   ],
   "source": [
    "first=input(\"Enter first string: \")\n",
    "second=input(\"Enter the second string \")\n",
    "for i in second:\n",
    "    if i not in first:\n",
    "        print(i, end = \"\\t\")"
   ]
  },
  {
   "cell_type": "markdown",
   "id": "99c924b7",
   "metadata": {},
   "source": [
    "# charector count"
   ]
  },
  {
   "cell_type": "code",
   "execution_count": 46,
   "id": "f4bf47a0",
   "metadata": {},
   "outputs": [
    {
     "name": "stdout",
     "output_type": "stream",
     "text": [
      "Enter the string: abcdabcdabcd\n",
      "a Count: 3\n",
      "b Count: 3\n",
      "c Count: 3\n",
      "d Count: 3\n"
     ]
    }
   ],
   "source": [
    "first=input(\"Enter the string: \")\n",
    "temp = \"\"\n",
    "for i in first:\n",
    "    if i not in temp:\n",
    "        print(\"{} Count: {}\".format(i, first.count(i)))\n",
    "        temp += i"
   ]
  },
  {
   "cell_type": "code",
   "execution_count": 11,
   "id": "061b421e",
   "metadata": {},
   "outputs": [],
   "source": [
    "lest=[1,3,2,4,\"34\",\"abcd\"]\n"
   ]
  },
  {
   "cell_type": "code",
   "execution_count": 18,
   "id": "7db9fb42",
   "metadata": {},
   "outputs": [
    {
     "data": {
      "text/plain": [
       "[1, 2, '34']"
      ]
     },
     "execution_count": 18,
     "metadata": {},
     "output_type": "execute_result"
    }
   ],
   "source": [
    "lest[:5:2]"
   ]
  },
  {
   "cell_type": "markdown",
   "id": "1d868e11",
   "metadata": {},
   "source": [
    "## "
   ]
  },
  {
   "cell_type": "markdown",
   "id": "dd382587",
   "metadata": {},
   "source": [
    "# list function"
   ]
  },
  {
   "cell_type": "code",
   "execution_count": 34,
   "id": "1232beac",
   "metadata": {},
   "outputs": [],
   "source": [
    "list1=[1,2,3,4,5]\n",
    "list2=[\"1\",\"2\",\"3\",\"4\",\"5\"]"
   ]
  },
  {
   "cell_type": "code",
   "execution_count": 35,
   "id": "5317d1ce",
   "metadata": {},
   "outputs": [
    {
     "name": "stdout",
     "output_type": "stream",
     "text": [
      "[1, 2, 3, 4, 5, 3]\n"
     ]
    }
   ],
   "source": [
    "list1.append(3)\n",
    "print(list1)"
   ]
  },
  {
   "cell_type": "code",
   "execution_count": 40,
   "id": "5e8738d5",
   "metadata": {},
   "outputs": [
    {
     "name": "stdout",
     "output_type": "stream",
     "text": [
      "['1', '2', '3', '4', '5', 1, 1, 1, 1]\n"
     ]
    }
   ],
   "source": [
    "list2.append(1)\n",
    "print(list2)"
   ]
  },
  {
   "cell_type": "code",
   "execution_count": 41,
   "id": "c11ee726",
   "metadata": {},
   "outputs": [],
   "source": [
    "list1=[1,2,3,4,5]\n",
    "list2=[\"1\",\"2\",\"3\",\"4\",\"5\"]"
   ]
  },
  {
   "cell_type": "code",
   "execution_count": 44,
   "id": "698c8c59",
   "metadata": {},
   "outputs": [
    {
     "name": "stdout",
     "output_type": "stream",
     "text": [
      "[1, 2, 3, 4, 5, '1', '2', '3', '4', '5', '1', '2', '3', '4', '5']\n"
     ]
    }
   ],
   "source": [
    "list1.extend(list2) \n",
    "print(list1)"
   ]
  },
  {
   "cell_type": "code",
   "execution_count": 45,
   "id": "8542c1c7",
   "metadata": {},
   "outputs": [
    {
     "name": "stdout",
     "output_type": "stream",
     "text": [
      "[1, 2, 3, 4, 5, '1', '2', '3', '4', '5', '1', '2', '3', '4', '5', ['1', '2', '3', '4', '5']]\n"
     ]
    }
   ],
   "source": [
    "list1.append(list2)\n",
    "print(list1)"
   ]
  },
  {
   "cell_type": "code",
   "execution_count": 48,
   "id": "dcba18f0",
   "metadata": {},
   "outputs": [],
   "source": [
    "list1=[1,2,3,4,5]\n"
   ]
  },
  {
   "cell_type": "code",
   "execution_count": 49,
   "id": "61aefda9",
   "metadata": {},
   "outputs": [
    {
     "data": {
      "text/plain": [
       "[1, 2, 3, 5]"
      ]
     },
     "execution_count": 49,
     "metadata": {},
     "output_type": "execute_result"
    }
   ],
   "source": [
    "list1.remove(4)#remove method is emove the only one element\n",
    "list1"
   ]
  },
  {
   "cell_type": "code",
   "execution_count": 50,
   "id": "48acac95",
   "metadata": {},
   "outputs": [
    {
     "data": {
      "text/plain": [
       "2"
      ]
     },
     "execution_count": 50,
     "metadata": {},
     "output_type": "execute_result"
    }
   ],
   "source": [
    "list1.index(3)#here 3 is element index provied the index of element"
   ]
  },
  {
   "cell_type": "code",
   "execution_count": 51,
   "id": "cb5579ca",
   "metadata": {},
   "outputs": [],
   "source": [
    "list1.clear()#clear method is use for clear all the list"
   ]
  },
  {
   "cell_type": "code",
   "execution_count": 52,
   "id": "f6fc62f2",
   "metadata": {},
   "outputs": [
    {
     "data": {
      "text/plain": [
       "[]"
      ]
     },
     "execution_count": 52,
     "metadata": {},
     "output_type": "execute_result"
    }
   ],
   "source": [
    "list1"
   ]
  },
  {
   "cell_type": "code",
   "execution_count": 53,
   "id": "16f3ac1f",
   "metadata": {},
   "outputs": [],
   "source": [
    "list1=[1,2,3,4,5]\n",
    "list2=[\"1\",\"2\",\"3\",\"4\",\"5\"]"
   ]
  },
  {
   "cell_type": "code",
   "execution_count": 54,
   "id": "23317542",
   "metadata": {},
   "outputs": [],
   "source": [
    "del(list1)# del method is use for deleting the entair variable in the memory "
   ]
  },
  {
   "cell_type": "code",
   "execution_count": 55,
   "id": "2f0f0fa3",
   "metadata": {},
   "outputs": [
    {
     "ename": "NameError",
     "evalue": "name 'list1' is not defined",
     "output_type": "error",
     "traceback": [
      "\u001b[1;31m---------------------------------------------------------------------------\u001b[0m",
      "\u001b[1;31mNameError\u001b[0m                                 Traceback (most recent call last)",
      "Cell \u001b[1;32mIn[55], line 1\u001b[0m\n\u001b[1;32m----> 1\u001b[0m list1\n",
      "\u001b[1;31mNameError\u001b[0m: name 'list1' is not defined"
     ]
    }
   ],
   "source": [
    "list1\n"
   ]
  },
  {
   "cell_type": "code",
   "execution_count": 56,
   "id": "63181046",
   "metadata": {},
   "outputs": [],
   "source": [
    "list2=[\"1\",\"78\",\"3\",\"40\",\"9\"]"
   ]
  },
  {
   "cell_type": "code",
   "execution_count": 58,
   "id": "7408d85d",
   "metadata": {},
   "outputs": [],
   "source": [
    "list2.sort()#sort is use for sorting all the element in list in asending order"
   ]
  },
  {
   "cell_type": "code",
   "execution_count": 59,
   "id": "0bdbef59",
   "metadata": {},
   "outputs": [
    {
     "data": {
      "text/plain": [
       "['1', '3', '40', '78', '9']"
      ]
     },
     "execution_count": 59,
     "metadata": {},
     "output_type": "execute_result"
    }
   ],
   "source": [
    "list2"
   ]
  },
  {
   "cell_type": "code",
   "execution_count": 62,
   "id": "989366b7",
   "metadata": {},
   "outputs": [
    {
     "name": "stdout",
     "output_type": "stream",
     "text": [
      "[1, 2, 5, 7, 8]\n",
      "[8, 7, 5, 2, 1]\n"
     ]
    }
   ],
   "source": [
    "list1=[8,2,7,1,5]\n",
    "list1.sort()# it sort the list in assending order\n",
    "print(list1)\n",
    "list1.reverse()\n",
    "print(list1)"
   ]
  },
  {
   "cell_type": "code",
   "execution_count": 64,
   "id": "ecb03b3b",
   "metadata": {},
   "outputs": [
    {
     "name": "stdout",
     "output_type": "stream",
     "text": [
      "[8, 9, 2, 7, 1, 5]\n"
     ]
    }
   ],
   "source": [
    "# insert(index,value) it add the value according your choice\n",
    "list1=[8,2,7,1,5]\n",
    "list1.insert(1,9)\n",
    "print(list1)"
   ]
  },
  {
   "cell_type": "code",
   "execution_count": 66,
   "id": "b0b3b537",
   "metadata": {},
   "outputs": [
    {
     "name": "stdout",
     "output_type": "stream",
     "text": [
      "[8, 7, 1, 5]\n"
     ]
    }
   ],
   "source": [
    "list1=[8,2,7,1,5] #pop method is use for remove last element in the list\n",
    "list1.pop(1)# here 1 is index value\n",
    "print(list1)"
   ]
  },
  {
   "cell_type": "code",
   "execution_count": 72,
   "id": "91e52b48",
   "metadata": {},
   "outputs": [
    {
     "name": "stdout",
     "output_type": "stream",
     "text": [
      "[1, 2, 3, 4, 5, 6, 7, 8, 9, 10]\n"
     ]
    }
   ],
   "source": [
    "list1=[]\n",
    "for i in range(1,10+1):\n",
    "    list1.append(i)\n",
    "print(list1)"
   ]
  },
  {
   "cell_type": "code",
   "execution_count": 74,
   "id": "59cc5237",
   "metadata": {},
   "outputs": [
    {
     "name": "stdout",
     "output_type": "stream",
     "text": [
      "[1, 2, 3, 4, 5, 6, 7, 8, 9, 10]\n"
     ]
    },
    {
     "ename": "TypeError",
     "evalue": "'list' object cannot be interpreted as an integer",
     "output_type": "error",
     "traceback": [
      "\u001b[1;31m---------------------------------------------------------------------------\u001b[0m",
      "\u001b[1;31mTypeError\u001b[0m                                 Traceback (most recent call last)",
      "Cell \u001b[1;32mIn[74], line 5\u001b[0m\n\u001b[0;32m      3\u001b[0m     list1\u001b[38;5;241m.\u001b[39mappend(i)\n\u001b[0;32m      4\u001b[0m \u001b[38;5;28mprint\u001b[39m(list1)\n\u001b[1;32m----> 5\u001b[0m \u001b[38;5;28;01mfor\u001b[39;00m i \u001b[38;5;129;01min\u001b[39;00m \u001b[38;5;28mrange\u001b[39m(list1):\n\u001b[0;32m      6\u001b[0m     list1\u001b[38;5;241m.\u001b[39mreverse(list1)\n\u001b[0;32m      7\u001b[0m     \u001b[38;5;28mprint\u001b[39m(list1)\n",
      "\u001b[1;31mTypeError\u001b[0m: 'list' object cannot be interpreted as an integer"
     ]
    }
   ],
   "source": [
    "list1=[]\n",
    "for i in range(1,10+1):\n",
    "    list1.append(i)\n",
    "print(list1)\n",
    "for i in range(list1):\n",
    "    list1.reverse(list1)\n",
    "    print(list1)"
   ]
  },
  {
   "cell_type": "markdown",
   "id": "82121723",
   "metadata": {},
   "source": [
    "# list comparihension"
   ]
  },
  {
   "cell_type": "code",
   "execution_count": 77,
   "id": "09395331",
   "metadata": {},
   "outputs": [
    {
     "name": "stdout",
     "output_type": "stream",
     "text": [
      "[1, 3, 5, 7, 9]\n"
     ]
    }
   ],
   "source": [
    "list_comp=[i for i in range(11) if (i%2==1)]# list comparihesion \n",
    "print(list_comp)"
   ]
  },
  {
   "cell_type": "code",
   "execution_count": 78,
   "id": "a3bcc349",
   "metadata": {},
   "outputs": [
    {
     "name": "stdout",
     "output_type": "stream",
     "text": [
      "3\n"
     ]
    }
   ],
   "source": [
    "string = \"abcdabcdefabcd\"\n",
    "sub_string = \"abcd\"\n",
    "print(string.count(sub_string))"
   ]
  },
  {
   "cell_type": "markdown",
   "id": "c134873a",
   "metadata": {},
   "source": [
    "# count the sub_string in the list"
   ]
  },
  {
   "cell_type": "code",
   "execution_count": 83,
   "id": "a41d28a6",
   "metadata": {},
   "outputs": [
    {
     "name": "stdout",
     "output_type": "stream",
     "text": [
      "2\n"
     ]
    }
   ],
   "source": [
    "string = \"abcdcdc\"\n",
    "sub_string=\"cdc\"\n",
    "count = 0\n",
    "for i in range(len(string) - len(sub_string) + 1):\n",
    "    if string[i] == sub_string[0]:\n",
    "        k = i\n",
    "        for j in range(len(sub_string)):\n",
    "            if sub_string[j] == string[k]:\n",
    "                k += 1\n",
    "            else:\n",
    "                break\n",
    "            if len(sub_string) == k - i:\n",
    "                count += 1\n",
    "print(count)"
   ]
  },
  {
   "cell_type": "code",
   "execution_count": null,
   "id": "dad772eb",
   "metadata": {},
   "outputs": [],
   "source": []
  },
  {
   "cell_type": "code",
   "execution_count": 5,
   "id": "08c504c2",
   "metadata": {},
   "outputs": [
    {
     "name": "stdout",
     "output_type": "stream",
     "text": [
      "Enter the number1 2 3 4 5 6\n",
      "[2, 4, 6]\n",
      "[1, 3, 5]\n"
     ]
    }
   ],
   "source": [
    "sample=list(map(int,input(\"Enter the number\").split()))\n",
    "list1=[]\n",
    "list2=[]\n",
    "for i in sample:\n",
    "    if i%2==0:\n",
    "         list1.append(i)\n",
    "    else:\n",
    "        list2.append(i)\n",
    "print(list1)\n",
    "print(list2)"
   ]
  },
  {
   "cell_type": "code",
   "execution_count": 2,
   "id": "6a02f9c1",
   "metadata": {},
   "outputs": [
    {
     "data": {
      "text/plain": [
       "int"
      ]
     },
     "execution_count": 2,
     "metadata": {},
     "output_type": "execute_result"
    }
   ],
   "source": [
    "type(list1)"
   ]
  },
  {
   "cell_type": "code",
   "execution_count": 6,
   "id": "282a11de",
   "metadata": {},
   "outputs": [
    {
     "data": {
      "text/plain": [
       "[1, 2, 3, 4, 5, 6]"
      ]
     },
     "execution_count": 6,
     "metadata": {},
     "output_type": "execute_result"
    }
   ],
   "source": [
    "sample"
   ]
  },
  {
   "cell_type": "code",
   "execution_count": 8,
   "id": "f28e8bbe",
   "metadata": {},
   "outputs": [
    {
     "data": {
      "text/plain": [
       "3.5"
      ]
     },
     "execution_count": 8,
     "metadata": {},
     "output_type": "execute_result"
    }
   ],
   "source": [
    "sum(sample)/len(sample)"
   ]
  },
  {
   "cell_type": "markdown",
   "id": "6b2ddc6f",
   "metadata": {},
   "source": [
    "# second largest number in a list"
   ]
  },
  {
   "cell_type": "code",
   "execution_count": 16,
   "id": "da2fb0bf",
   "metadata": {
    "scrolled": true
   },
   "outputs": [
    {
     "name": "stdout",
     "output_type": "stream",
     "text": [
      "1 4 3 2\n"
     ]
    }
   ],
   "source": [
    "list_1 = list(map(int, input().split()))\n",
    "list_1.sort()"
   ]
  },
  {
   "cell_type": "markdown",
   "id": "c58bf700",
   "metadata": {},
   "source": [
    "# find the second largest number in list"
   ]
  },
  {
   "cell_type": "code",
   "execution_count": 17,
   "id": "b8692cd2",
   "metadata": {},
   "outputs": [
    {
     "data": {
      "text/plain": [
       "3"
      ]
     },
     "execution_count": 17,
     "metadata": {},
     "output_type": "execute_result"
    }
   ],
   "source": [
    "list_1[-2]"
   ]
  },
  {
   "cell_type": "code",
   "execution_count": 55,
   "id": "14eed1f6",
   "metadata": {},
   "outputs": [
    {
     "data": {
      "text/plain": [
       "['a', 'ab', 'abc', 'abcd']"
      ]
     },
     "execution_count": 55,
     "metadata": {},
     "output_type": "execute_result"
    }
   ],
   "source": [
    "list1"
   ]
  },
  {
   "cell_type": "markdown",
   "id": "1d0bb8d7",
   "metadata": {},
   "source": [
    "# swap the element"
   ]
  },
  {
   "cell_type": "code",
   "execution_count": 56,
   "id": "53425567",
   "metadata": {},
   "outputs": [
    {
     "name": "stdout",
     "output_type": "stream",
     "text": [
      "['abcd', 'ab', 'abc', 'a']\n"
     ]
    }
   ],
   "source": [
    "list1[-1],list1[0]=list1[0],list1[-1]\n",
    "print(list1)\n"
   ]
  },
  {
   "cell_type": "code",
   "execution_count": 26,
   "id": "a306dc9f",
   "metadata": {},
   "outputs": [
    {
     "data": {
      "text/plain": [
       "[4, 2, 3, 1]"
      ]
     },
     "execution_count": 26,
     "metadata": {},
     "output_type": "execute_result"
    }
   ],
   "source": [
    "list1"
   ]
  },
  {
   "cell_type": "markdown",
   "id": "1630370c",
   "metadata": {},
   "source": [
    "# removing duplicate value in the list"
   ]
  },
  {
   "cell_type": "code",
   "execution_count": 45,
   "id": "8ab92045",
   "metadata": {},
   "outputs": [
    {
     "name": "stdout",
     "output_type": "stream",
     "text": [
      "1 1\n",
      "[1]\n"
     ]
    }
   ],
   "source": [
    "list1=list(map(int,input().split()))\n",
    "dup=[]\n",
    "for i in list1:\n",
    "    if i not in dup:\n",
    "        dup.append(i)\n",
    "print(dup)"
   ]
  },
  {
   "cell_type": "markdown",
   "id": "603c622f",
   "metadata": {},
   "source": [
    "# find maximum length of given string"
   ]
  },
  {
   "cell_type": "code",
   "execution_count": 53,
   "id": "5c1c75e8",
   "metadata": {},
   "outputs": [
    {
     "name": "stdout",
     "output_type": "stream",
     "text": [
      "a ab abc abcd\n"
     ]
    },
    {
     "data": {
      "text/plain": [
       "4"
      ]
     },
     "execution_count": 53,
     "metadata": {},
     "output_type": "execute_result"
    }
   ],
   "source": [
    "list1=input().split()\n",
    "res = 0\n",
    "for i in list1:\n",
    "    if len(i) > res:\n",
    "        res = len(i)\n",
    "res"
   ]
  },
  {
   "cell_type": "code",
   "execution_count": null,
   "id": "92e7c44b",
   "metadata": {},
   "outputs": [],
   "source": []
  },
  {
   "cell_type": "markdown",
   "id": "bfb5a25f",
   "metadata": {},
   "source": [
    "# tuple\n",
    "\n",
    "# declearation"
   ]
  },
  {
   "cell_type": "code",
   "execution_count": 1,
   "id": "98863210",
   "metadata": {},
   "outputs": [],
   "source": [
    "tuple_1=(1,2,3,4,5,6,7)"
   ]
  },
  {
   "cell_type": "markdown",
   "id": "55656769",
   "metadata": {},
   "source": [
    "# list to tuple"
   ]
  },
  {
   "cell_type": "code",
   "execution_count": 2,
   "id": "33c23312",
   "metadata": {},
   "outputs": [],
   "source": [
    "tuple_1=tuple([1,2,3,4,5,6,7])"
   ]
  },
  {
   "cell_type": "code",
   "execution_count": 3,
   "id": "074e91ae",
   "metadata": {},
   "outputs": [
    {
     "data": {
      "text/plain": [
       "(1, 2, 3, 4, 5, 6, 7)"
      ]
     },
     "execution_count": 3,
     "metadata": {},
     "output_type": "execute_result"
    }
   ],
   "source": [
    "tuple_1"
   ]
  },
  {
   "cell_type": "code",
   "execution_count": 4,
   "id": "11fbe292",
   "metadata": {},
   "outputs": [
    {
     "data": {
      "text/plain": [
       "tuple"
      ]
     },
     "execution_count": 4,
     "metadata": {},
     "output_type": "execute_result"
    }
   ],
   "source": [
    "type(tuple_1)"
   ]
  },
  {
   "cell_type": "code",
   "execution_count": 5,
   "id": "87c62588",
   "metadata": {},
   "outputs": [
    {
     "data": {
      "text/plain": [
       "2"
      ]
     },
     "execution_count": 5,
     "metadata": {},
     "output_type": "execute_result"
    }
   ],
   "source": [
    "tuple_1.index(3)"
   ]
  },
  {
   "cell_type": "code",
   "execution_count": 6,
   "id": "8feabafc",
   "metadata": {},
   "outputs": [
    {
     "data": {
      "text/plain": [
       "1"
      ]
     },
     "execution_count": 6,
     "metadata": {},
     "output_type": "execute_result"
    }
   ],
   "source": [
    "tuple_1.count(2)#count the element in tuple"
   ]
  },
  {
   "cell_type": "code",
   "execution_count": 7,
   "id": "13a289e8",
   "metadata": {},
   "outputs": [
    {
     "data": {
      "text/plain": [
       "{1, 2, 3, 4, 6}"
      ]
     },
     "execution_count": 7,
     "metadata": {},
     "output_type": "execute_result"
    }
   ],
   "source": [
    "set_1={2,3,1,4,6,2}# set is not countaint duplicate value and print sorted order\n",
    "set_1"
   ]
  },
  {
   "cell_type": "code",
   "execution_count": 8,
   "id": "d32eef53",
   "metadata": {},
   "outputs": [],
   "source": [
    "set_1={1,2,3,4,5,6,7,8,9,10}\n",
    "set_2={2,4,6,8,10,12}"
   ]
  },
  {
   "cell_type": "code",
   "execution_count": 9,
   "id": "8da1c038",
   "metadata": {},
   "outputs": [
    {
     "data": {
      "text/plain": [
       "{1, 2, 3, 4, 5, 6, 7, 8, 9, 10, 12}"
      ]
     },
     "execution_count": 9,
     "metadata": {},
     "output_type": "execute_result"
    }
   ],
   "source": [
    "set_1.union(set_2)#union is add number without duplicate value\n"
   ]
  },
  {
   "cell_type": "code",
   "execution_count": 10,
   "id": "d958f199",
   "metadata": {},
   "outputs": [
    {
     "data": {
      "text/plain": [
       "{2, 4, 6, 8, 10}"
      ]
     },
     "execution_count": 10,
     "metadata": {},
     "output_type": "execute_result"
    }
   ],
   "source": [
    "set_1.intersection(set_2)# it print comman value in both set"
   ]
  },
  {
   "cell_type": "code",
   "execution_count": 12,
   "id": "605812fa",
   "metadata": {},
   "outputs": [],
   "source": [
    "set_1.intersection_update(set_2) # it update the value from set_2 to set_1"
   ]
  },
  {
   "cell_type": "code",
   "execution_count": 13,
   "id": "cc6bffe5",
   "metadata": {},
   "outputs": [
    {
     "data": {
      "text/plain": [
       "{2, 4, 6, 8, 10}"
      ]
     },
     "execution_count": 13,
     "metadata": {},
     "output_type": "execute_result"
    }
   ],
   "source": [
    "set_1"
   ]
  },
  {
   "cell_type": "markdown",
   "id": "cc917c8e",
   "metadata": {},
   "source": [
    "# coprihansion"
   ]
  },
  {
   "cell_type": "code",
   "execution_count": 18,
   "id": "81c22722",
   "metadata": {},
   "outputs": [
    {
     "name": "stdout",
     "output_type": "stream",
     "text": [
      "1\n",
      "1\n",
      "1\n",
      "2\n",
      "[[0, 0, 0], [0, 0, 1], [0, 1, 0], [1, 0, 0], [1, 1, 1]]\n"
     ]
    }
   ],
   "source": [
    "x=int(input())\n",
    "y=int(input())\n",
    "z=int(input())\n",
    "n=int(input())\n",
    "list_1=[]\n",
    "for i in range(x+1):\n",
    "    for j in range(y+1):\n",
    "        for k in range(z+1):\n",
    "            if i+j+k!=n:\n",
    "                list_1.append([i,j,k])\n",
    "print(list_1)\n",
    "                "
   ]
  },
  {
   "cell_type": "code",
   "execution_count": 28,
   "id": "f7187efd",
   "metadata": {},
   "outputs": [
    {
     "data": {
      "text/plain": [
       "[-10, 0, 10]"
      ]
     },
     "execution_count": 28,
     "metadata": {},
     "output_type": "execute_result"
    }
   ],
   "source": [
    "sorted(list({-10, 0, 10}))"
   ]
  },
  {
   "cell_type": "code",
   "execution_count": 17,
   "id": "9f73e750",
   "metadata": {},
   "outputs": [
    {
     "name": "stdout",
     "output_type": "stream",
     "text": [
      "5\n",
      "harry\n",
      "37.21\n",
      "barry\n",
      "37.21\n",
      "tina\n",
      "37.2\n",
      "akriti\n",
      "41\n",
      "harsh\n",
      "39\n",
      "[['akriti', 41.0], ['barry', 37.21], ['harry', 37.21], ['harsh', 39.0], ['tina', 37.2]]\n"
     ]
    }
   ],
   "source": [
    "list_1=[]\n",
    "for i in range(int(input())):\n",
    "    name=input()\n",
    "    score=float(input())\n",
    "    list_1.append([name, score])\n",
    "list_1.sort()\n",
    "print(list_1)\n",
    "    "
   ]
  },
  {
   "cell_type": "code",
   "execution_count": 18,
   "id": "7886dbc9",
   "metadata": {},
   "outputs": [
    {
     "data": {
      "text/plain": [
       "{1, 2, 3}"
      ]
     },
     "execution_count": 18,
     "metadata": {},
     "output_type": "execute_result"
    }
   ],
   "source": [
    "list_1=[1,2,3,2,3,2]\n",
    "set(list_1)"
   ]
  },
  {
   "cell_type": "code",
   "execution_count": 19,
   "id": "28d7e0ac",
   "metadata": {},
   "outputs": [
    {
     "data": {
      "text/plain": [
       "False"
      ]
     },
     "execution_count": 19,
     "metadata": {},
     "output_type": "execute_result"
    }
   ],
   "source": [
    "37.2 > 37.21"
   ]
  },
  {
   "cell_type": "code",
   "execution_count": 20,
   "id": "d2cd40d3",
   "metadata": {},
   "outputs": [
    {
     "data": {
      "text/plain": [
       "True"
      ]
     },
     "execution_count": 20,
     "metadata": {},
     "output_type": "execute_result"
    }
   ],
   "source": [
    "37.21 > 37.2"
   ]
  },
  {
   "cell_type": "code",
   "execution_count": 24,
   "id": "8483e741",
   "metadata": {
    "scrolled": true
   },
   "outputs": [
    {
     "name": "stdout",
     "output_type": "stream",
     "text": [
      "4\n",
      "Prashant\n",
      "32\n",
      "Pallavi\n",
      "36\n",
      "Dheeraj\n",
      "39\n",
      "Shivam\n",
      "40\n",
      "[['Prashant', 32.0], ['Pallavi', 36.0], ['Dheeraj', 39.0], ['Shivam', 40.0]] [32.0, 40.0, 36.0, 39.0]\n"
     ]
    }
   ],
   "source": [
    "list_1 = []\n",
    "for i in range(int(input())):\n",
    "    name = input()\n",
    "    score = float(input())\n",
    "    list_1.append([name, score])\n",
    "for i in range(len(list_1) - 1):\n",
    "    for j in range(i, len(list_1)):\n",
    "        if list_1[i][1] > list_1[j][1]:\n",
    "            list_1[i], list_1[j] = list_1[j], list_1[i]\n",
    "second = list(set([i[1] for i in list_1 ]))\n",
    "print(list_1, second)\n",
    "for i in list_1:\n",
    "    if second in i:\n",
    "        print(i[0])"
   ]
  },
  {
   "cell_type": "code",
   "execution_count": null,
   "id": "075450c4",
   "metadata": {},
   "outputs": [],
   "source": []
  },
  {
   "cell_type": "code",
   "execution_count": null,
   "id": "b384b1dd",
   "metadata": {},
   "outputs": [],
   "source": [
    "# dictionary\n",
    "\n",
    "# Declaration"
   ]
  },
  {
   "cell_type": "code",
   "execution_count": 1,
   "id": "7e4ee303",
   "metadata": {},
   "outputs": [],
   "source": [
    "temp = { 1:\"2\",1:\"3\"} # it updata depanding on last number"
   ]
  },
  {
   "cell_type": "code",
   "execution_count": 2,
   "id": "ef3bb864",
   "metadata": {},
   "outputs": [
    {
     "data": {
      "text/plain": [
       "{1: '3'}"
      ]
     },
     "execution_count": 2,
     "metadata": {},
     "output_type": "execute_result"
    }
   ],
   "source": [
    "temp\n"
   ]
  },
  {
   "cell_type": "code",
   "execution_count": null,
   "id": "6d2f4267",
   "metadata": {},
   "outputs": [],
   "source": [
    "student = {\"name\":[\"ayush\",]}"
   ]
  },
  {
   "cell_type": "code",
   "execution_count": 1,
   "id": "44c58827",
   "metadata": {},
   "outputs": [
    {
     "name": "stdout",
     "output_type": "stream",
     "text": [
      "Enter the row: 7\n",
      "---------.|.---------\n",
      "------.|..|..|.------\n",
      "---.|..|..|..|..|.---\n",
      "-------WELLCOME------\n",
      "---.|..|..|..|..|.---\n",
      "------.|..|..|.------\n",
      "---------.|.---------\n"
     ]
    }
   ],
   "source": [
    "row=int(input(\"Enter the row: \"))\n",
    "columns=row*3\n",
    "width=columns\n",
    "for i in range(0,int(row/2)):\n",
    "    pattern='.|.'*((2*i)+1)\n",
    "    print(pattern.center(width,'-'))\n",
    "print(\"WELLCOME\".center(width,'-'))\n",
    "i=int(row/2)\n",
    "while i>0:\n",
    "    pattern='.|.'*((2*i)-1)\n",
    "    print(pattern.center(width,'-'))\n",
    "    i=i-1"
   ]
  },
  {
   "cell_type": "code",
   "execution_count": 25,
   "id": "dd552465",
   "metadata": {},
   "outputs": [
    {
     "name": "stdout",
     "output_type": "stream",
     "text": [
      "Enter the end number: 5\n",
      "* * * * * \n",
      "* * * * \n",
      "* * * \n",
      "* * \n",
      "* \n",
      "1\n",
      "2\n",
      "3\n",
      "4\n",
      "5\n",
      "\n",
      "2\n",
      "3\n",
      "4\n",
      "5\n",
      "\n",
      "3\n",
      "4\n",
      "5\n",
      "\n",
      "4\n",
      "5\n",
      "\n",
      "5\n",
      "\n"
     ]
    }
   ],
   "source": [
    "\n",
    "n=int(input(\"Enter the end number: \"))\n",
    "for i in range(1,n+1):\n",
    "    for j in range(i,n+1):\n",
    "        print(\"*\",end=\" \")\n",
    "    print()\n",
    "for l in range(1,n+1):\n",
    "    for k in range(l,n+1):\n",
    "        print(k)\n",
    "    print()"
   ]
  },
  {
   "cell_type": "code",
   "execution_count": 31,
   "id": "277be959",
   "metadata": {},
   "outputs": [
    {
     "name": "stdout",
     "output_type": "stream",
     "text": [
      "5\n",
      "1 2 3 4 5 \n",
      "4 6 8 10 \n",
      "9 12 15 \n",
      "16 20 \n",
      "25 \n"
     ]
    }
   ],
   "source": [
    "n=int(input())\n",
    "for i in range(1,n+1):\n",
    "    for j in range(i,n+1):\n",
    "        print(i*j ,end=\" \")\n",
    "    print()"
   ]
  },
  {
   "cell_type": "code",
   "execution_count": 7,
   "id": "831a865c",
   "metadata": {},
   "outputs": [
    {
     "name": "stdout",
     "output_type": "stream",
     "text": [
      "7 21\n",
      "---------.|.---------\n",
      "------.|..|..|.------\n",
      "---.|..|..|..|..|.---\n",
      "-------WELCOME-------\n",
      "---.|..|..|..|..|.---\n",
      "------.|..|..|.------\n",
      "---------.|.---------\n"
     ]
    }
   ],
   "source": [
    "n, m = map(int,input().split())\n",
    "pattern = [('.|.'*(2*i + 1)).center(m, '-') for i in range(n//2)]\n",
    "print('\\n'.join(pattern + ['WELCOME'.center(m, '-')] + pattern[::-1]))\n"
   ]
  },
  {
   "cell_type": "code",
   "execution_count": 10,
   "id": "f55b5947",
   "metadata": {},
   "outputs": [],
   "source": [
    "temp=\"12345678910\""
   ]
  },
  {
   "cell_type": "code",
   "execution_count": 11,
   "id": "9e4aeac5",
   "metadata": {},
   "outputs": [
    {
     "data": {
      "text/plain": [
       "'01987654321'"
      ]
     },
     "execution_count": 11,
     "metadata": {},
     "output_type": "execute_result"
    }
   ],
   "source": [
    "temp[::-1]"
   ]
  },
  {
   "cell_type": "code",
   "execution_count": 32,
   "id": "947061fc",
   "metadata": {
    "scrolled": true
   },
   "outputs": [
    {
     "ename": "KeyboardInterrupt",
     "evalue": "Interrupted by user",
     "output_type": "error",
     "traceback": [
      "\u001b[1;31m---------------------------------------------------------------------------\u001b[0m",
      "\u001b[1;31mKeyboardInterrupt\u001b[0m                         Traceback (most recent call last)",
      "Cell \u001b[1;32mIn[32], line 1\u001b[0m\n\u001b[1;32m----> 1\u001b[0m n\u001b[38;5;241m=\u001b[39m\u001b[38;5;28mint\u001b[39m(\u001b[38;5;28minput\u001b[39m())\n\u001b[0;32m      2\u001b[0m \u001b[38;5;28mlist\u001b[39m\u001b[38;5;241m=\u001b[39m[]\n\u001b[0;32m      3\u001b[0m \u001b[38;5;28;01mfor\u001b[39;00m i \u001b[38;5;129;01min\u001b[39;00m \u001b[38;5;28mrange\u001b[39m(\u001b[38;5;241m1\u001b[39m,n\u001b[38;5;241m+\u001b[39m\u001b[38;5;241m1\u001b[39m):\n",
      "File \u001b[1;32mC:\\ProgramData\\anaconda3\\Lib\\site-packages\\ipykernel\\kernelbase.py:1175\u001b[0m, in \u001b[0;36mKernel.raw_input\u001b[1;34m(self, prompt)\u001b[0m\n\u001b[0;32m   1171\u001b[0m \u001b[38;5;28;01mif\u001b[39;00m \u001b[38;5;129;01mnot\u001b[39;00m \u001b[38;5;28mself\u001b[39m\u001b[38;5;241m.\u001b[39m_allow_stdin:\n\u001b[0;32m   1172\u001b[0m     \u001b[38;5;28;01mraise\u001b[39;00m StdinNotImplementedError(\n\u001b[0;32m   1173\u001b[0m         \u001b[38;5;124m\"\u001b[39m\u001b[38;5;124mraw_input was called, but this frontend does not support input requests.\u001b[39m\u001b[38;5;124m\"\u001b[39m\n\u001b[0;32m   1174\u001b[0m     )\n\u001b[1;32m-> 1175\u001b[0m \u001b[38;5;28;01mreturn\u001b[39;00m \u001b[38;5;28mself\u001b[39m\u001b[38;5;241m.\u001b[39m_input_request(\n\u001b[0;32m   1176\u001b[0m     \u001b[38;5;28mstr\u001b[39m(prompt),\n\u001b[0;32m   1177\u001b[0m     \u001b[38;5;28mself\u001b[39m\u001b[38;5;241m.\u001b[39m_parent_ident[\u001b[38;5;124m\"\u001b[39m\u001b[38;5;124mshell\u001b[39m\u001b[38;5;124m\"\u001b[39m],\n\u001b[0;32m   1178\u001b[0m     \u001b[38;5;28mself\u001b[39m\u001b[38;5;241m.\u001b[39mget_parent(\u001b[38;5;124m\"\u001b[39m\u001b[38;5;124mshell\u001b[39m\u001b[38;5;124m\"\u001b[39m),\n\u001b[0;32m   1179\u001b[0m     password\u001b[38;5;241m=\u001b[39m\u001b[38;5;28;01mFalse\u001b[39;00m,\n\u001b[0;32m   1180\u001b[0m )\n",
      "File \u001b[1;32mC:\\ProgramData\\anaconda3\\Lib\\site-packages\\ipykernel\\kernelbase.py:1217\u001b[0m, in \u001b[0;36mKernel._input_request\u001b[1;34m(self, prompt, ident, parent, password)\u001b[0m\n\u001b[0;32m   1214\u001b[0m             \u001b[38;5;28;01mbreak\u001b[39;00m\n\u001b[0;32m   1215\u001b[0m \u001b[38;5;28;01mexcept\u001b[39;00m \u001b[38;5;167;01mKeyboardInterrupt\u001b[39;00m:\n\u001b[0;32m   1216\u001b[0m     \u001b[38;5;66;03m# re-raise KeyboardInterrupt, to truncate traceback\u001b[39;00m\n\u001b[1;32m-> 1217\u001b[0m     \u001b[38;5;28;01mraise\u001b[39;00m \u001b[38;5;167;01mKeyboardInterrupt\u001b[39;00m(\u001b[38;5;124m\"\u001b[39m\u001b[38;5;124mInterrupted by user\u001b[39m\u001b[38;5;124m\"\u001b[39m) \u001b[38;5;28;01mfrom\u001b[39;00m \u001b[38;5;28;01mNone\u001b[39;00m\n\u001b[0;32m   1218\u001b[0m \u001b[38;5;28;01mexcept\u001b[39;00m \u001b[38;5;167;01mException\u001b[39;00m:\n\u001b[0;32m   1219\u001b[0m     \u001b[38;5;28mself\u001b[39m\u001b[38;5;241m.\u001b[39mlog\u001b[38;5;241m.\u001b[39mwarning(\u001b[38;5;124m\"\u001b[39m\u001b[38;5;124mInvalid Message:\u001b[39m\u001b[38;5;124m\"\u001b[39m, exc_info\u001b[38;5;241m=\u001b[39m\u001b[38;5;28;01mTrue\u001b[39;00m)\n",
      "\u001b[1;31mKeyboardInterrupt\u001b[0m: Interrupted by user"
     ]
    }
   ],
   "source": [
    "n=int(input())\n",
    "list=[]\n",
    "for i in range(1,n+1):\n",
    "    list[i]=n%8\n",
    "    n=n/8\n",
    "    print(list[i])"
   ]
  },
  {
   "cell_type": "code",
   "execution_count": null,
   "id": "dd3782dd",
   "metadata": {},
   "outputs": [
    {
     "name": "stdout",
     "output_type": "stream",
     "text": [
      "5\n",
      "namehariom\n",
      "nameayush\n",
      "namevivek\n"
     ]
    }
   ],
   "source": [
    "list_1=[]\n",
    "for i in range(int(input())):\n",
    "    name=input(\"name\")\n",
    "    list_1.append(name)\n",
    "print(list_1)"
   ]
  },
  {
   "cell_type": "code",
   "execution_count": null,
   "id": "6a81904c",
   "metadata": {},
   "outputs": [],
   "source": []
  },
  {
   "cell_type": "markdown",
   "id": "958f6185",
   "metadata": {},
   "source": [
    "# 0 1 1 2 3 5 8 .... FEBONACII SEREASE"
   ]
  },
  {
   "cell_type": "code",
   "execution_count": 11,
   "id": "e4c14d1a",
   "metadata": {},
   "outputs": [
    {
     "name": "stdout",
     "output_type": "stream",
     "text": [
      "12\n",
      "1\n",
      "2\n",
      "3\n",
      "5\n",
      "8\n",
      "13\n",
      "21\n",
      "34\n",
      "55\n",
      "89\n"
     ]
    }
   ],
   "source": [
    "n=int(input())\n",
    "a1=0\n",
    "a2=1\n",
    "for i in range(n-2):\n",
    "    print(a1+a2)\n",
    "    a3=a1+a2\n",
    "    a1=a2\n",
    "    a2=a3\n",
    "        "
   ]
  },
  {
   "cell_type": "code",
   "execution_count": null,
   "id": "3edf9c82",
   "metadata": {},
   "outputs": [],
   "source": [
    "# input = \"my name is hariom\"\n",
    "output = \n"
   ]
  },
  {
   "cell_type": "code",
   "execution_count": 21,
   "id": "5034065a",
   "metadata": {},
   "outputs": [
    {
     "name": "stdout",
     "output_type": "stream",
     "text": [
      "my name is hariom vishwakarma\n",
      "number count 29\n",
      "word count 5\n"
     ]
    }
   ],
   "source": [
    "list1 =str(input())\n",
    "print(\"number count\", len(list1))\n",
    "print(\"word count\", len(list1.split()))\n",
    "\n"
   ]
  },
  {
   "cell_type": "code",
   "execution_count": null,
   "id": "f72ef16f",
   "metadata": {},
   "outputs": [],
   "source": [
    "\"\"\"\n",
    "sample input: \n",
    "\n",
    "STDIN       Function\n",
    "-----       --------\n",
    "AABCAAADA   s = 'AABCAAADA'\n",
    "3           k = 3\n",
    "Sample Output\n",
    "\n",
    "AB\n",
    "CA\n",
    "AD\"\"\""
   ]
  },
  {
   "cell_type": "code",
   "execution_count": 57,
   "id": "3f239099",
   "metadata": {},
   "outputs": [
    {
     "name": "stdout",
     "output_type": "stream",
     "text": [
      "2\n"
     ]
    }
   ],
   "source": [
    "string=\"aaabaacaada\"\n",
    "k=5\n",
    "l=len(string)//k\n",
    "print(l)\n",
    "for i in range(l):\n",
    "    print(\"\".join)\n"
   ]
  },
  {
   "cell_type": "code",
   "execution_count": 3,
   "id": "4f7b1d25",
   "metadata": {},
   "outputs": [
    {
     "name": "stdout",
     "output_type": "stream",
     "text": [
      "AABCAAADA\n",
      "3\n",
      "AB\n",
      "CA\n",
      "AD\n"
     ]
    }
   ],
   "source": [
    "from collections import OrderedDict as od\n",
    "\n",
    "def merge_the_tools(string, k):\n",
    "    l = len(string)//k\n",
    "    for i in range(l):\n",
    "        print(''.join(od.fromkeys(string[i*k:(i*k)+k])))\n",
    "\n",
    "\n",
    "if __name__ == '__main__':\n",
    "    string, k = input(), int(input())\n",
    "    merge_the_tools(string, k)"
   ]
  },
  {
   "cell_type": "code",
   "execution_count": 30,
   "id": "eb475136",
   "metadata": {},
   "outputs": [
    {
     "name": "stdout",
     "output_type": "stream",
     "text": [
      "[]\n"
     ]
    }
   ],
   "source": [
    "string=\"AABCAAADA\"\n",
    "k=3\n",
    "list1=[]\n",
    "list2=[]\n",
    "list3=[]\n",
    "for i in string:\n",
    "    if i is string:\n",
    "        list1.append(string)\n",
    "print(list1)\n",
    "    \n",
    "    "
   ]
  },
  {
   "cell_type": "code",
   "execution_count": 22,
   "id": "e1b6fa4f",
   "metadata": {},
   "outputs": [],
   "source": [
    "list1=\"hhhhhh\"\n",
    "list1=set(list1)"
   ]
  },
  {
   "cell_type": "code",
   "execution_count": 23,
   "id": "10fdd6e0",
   "metadata": {},
   "outputs": [
    {
     "data": {
      "text/plain": [
       "{'h'}"
      ]
     },
     "execution_count": 23,
     "metadata": {},
     "output_type": "execute_result"
    }
   ],
   "source": [
    "list1\n"
   ]
  },
  {
   "cell_type": "markdown",
   "id": "9b3dc931",
   "metadata": {},
   "source": [
    "# marge tool in hekerrank "
   ]
  },
  {
   "cell_type": "code",
   "execution_count": 6,
   "id": "cf01c79d",
   "metadata": {},
   "outputs": [
    {
     "name": "stdout",
     "output_type": "stream",
     "text": [
      "aabcaaada\n",
      "3\n",
      "ab\n",
      "ca\n",
      "ad\n"
     ]
    }
   ],
   "source": [
    "S = input()\n",
    "k = int(input())\n",
    "\n",
    "temp = []\n",
    "length = 0\n",
    "\n",
    "for i in S:\n",
    "  length += 1\n",
    "  if i not in temp:\n",
    "    temp.append(i)\n",
    "  \n",
    "  if length == k:\n",
    "    print(\"\".join(temp))\n",
    "    temp = []\n",
    "    length = 0\n"
   ]
  },
  {
   "cell_type": "code",
   "execution_count": null,
   "id": "82e365aa",
   "metadata": {},
   "outputs": [],
   "source": []
  },
  {
   "cell_type": "code",
   "execution_count": null,
   "id": "d7996b72",
   "metadata": {
    "scrolled": true
   },
   "outputs": [],
   "source": []
  },
  {
   "cell_type": "code",
   "execution_count": 23,
   "id": "461a2004",
   "metadata": {},
   "outputs": [
    {
     "name": "stdout",
     "output_type": "stream",
     "text": [
      "Enter the string: banana\n",
      "sub_string1 : an\n",
      "2\n",
      "sub_string1 : ba\n",
      "3\n",
      "sub_string1 : n\n",
      "5\n",
      "sub_string1 : exit\n",
      "sub_string2 : EXIT\n"
     ]
    }
   ],
   "source": [
    "\n",
    "string=input(\"Enter the string: \")\n",
    "total=0\n",
    "total1=0\n",
    "count=0\n",
    "while True:\n",
    "    sub_string=input(\"sub_string1 : \")\n",
    "    if sub_string=='EXIT'or sub_string=='exit':\n",
    "        break\n",
    "    if sub_string in string:\n",
    "        count1=string.count(sub_string)\n",
    "        total+=count1\n",
    "        print(total)\n",
    "\n",
    "while True:\n",
    "    sub_string=input(\"sub_string2 : \")\n",
    "    if sub_string=='EXIT'or sub_string=='exit':\n",
    "        break\n",
    "    if sub_string in string:\n",
    "        count1=string.count(sub_string)\n",
    "        total1+=count1\n",
    "        print(total1)"
   ]
  },
  {
   "cell_type": "code",
   "execution_count": null,
   "id": "be355d82",
   "metadata": {},
   "outputs": [],
   "source": []
  },
  {
   "cell_type": "code",
   "execution_count": 5,
   "id": "3e5d2960",
   "metadata": {},
   "outputs": [
    {
     "name": "stdout",
     "output_type": "stream",
     "text": [
      "banana\n",
      "Stuart  21\n"
     ]
    }
   ],
   "source": [
    "string = input()\n",
    "kevin, stuart = 0, 0\n",
    "for i in range(len(string)):\n",
    "    if string[i] in \"AEIOU\":\n",
    "        kevin = kevin + len(string[i : ])\n",
    "    else:\n",
    "        stuart = stuart + len(string[i : ])\n",
    "if kevin > stuart:\n",
    "    print(\"Kevin \", kevin)\n",
    "elif stuart > kevin:\n",
    "    print(\"Stuart \", stuart)\n",
    "else:\n",
    "    print(\"Draw\")"
   ]
  },
  {
   "cell_type": "code",
   "execution_count": 18,
   "id": "982833f9",
   "metadata": {},
   "outputs": [
    {
     "name": "stdout",
     "output_type": "stream",
     "text": [
      "twinkle,twinkle,littile star,\n",
      "   how ni wonder what your are!\n",
      "\t up above the world so high,\n",
      "\t like a dismond in the sky,\n",
      "twinkle twinkle littile star,\n",
      "   how i wonder what you are\n"
     ]
    }
   ],
   "source": [
    "print(\"twinkle,twinkle,littile star,\\n   how ni wonder what your are!\\n\\t up above the world so high,\\n\\t like a dismond in the sky,\\ntwinkle twinkle littile star,\\n   how i wonder what you are\") "
   ]
  },
  {
   "cell_type": "code",
   "execution_count": 19,
   "id": "b860fd32",
   "metadata": {},
   "outputs": [
    {
     "name": "stdout",
     "output_type": "stream",
     "text": [
      "python version 3.11.3 | packaged by Anaconda, Inc. | (main, Apr 19 2023, 23:46:34) [MSC v.1916 64 bit (AMD64)]\n",
      "python info. sys.version_info(major=3, minor=11, micro=3, releaselevel='final', serial=0)\n"
     ]
    }
   ],
   "source": [
    "import sys\n",
    "print(\"python version\",sys.version)\n",
    "print(\"python info.\",sys.version_info)"
   ]
  },
  {
   "cell_type": "code",
   "execution_count": 27,
   "id": "8e5847c5",
   "metadata": {},
   "outputs": [
    {
     "name": "stdout",
     "output_type": "stream",
     "text": [
      "08/14/23/34/2023 18:34:31\n"
     ]
    }
   ],
   "source": [
    "import datetime\n",
    "now = datetime.datetime.now()# date time is sub class\n",
    "print(now.strftime(\"%D/%M/%Y %H:%M:%S\"))"
   ]
  },
  {
   "cell_type": "code",
   "execution_count": 28,
   "id": "95042a81",
   "metadata": {},
   "outputs": [
    {
     "name": "stdout",
     "output_type": "stream",
     "text": [
      "45.6\n",
      "6535.131428571429\n"
     ]
    }
   ],
   "source": [
    "redius=float(input())\n",
    "area=redius*redius*(22/7)\n",
    "print(area)"
   ]
  },
  {
   "cell_type": "code",
   "execution_count": 33,
   "id": "90d869ec",
   "metadata": {},
   "outputs": [
    {
     "name": "stdout",
     "output_type": "stream",
     "text": [
      "Enter the first name: hariom\n",
      "Enter the second name: vishwakrma\n",
      "moirah amrkawhsiv\n"
     ]
    }
   ],
   "source": [
    "first_name=input(\"Enter the first name: \")\n",
    "second_name=input(\"Enter the second name: \")\n",
    "print(first_name[: : -1] ,end=\" \")\n",
    "print(second_name[: : -1])"
   ]
  },
  {
   "cell_type": "code",
   "execution_count": 45,
   "id": "9f2b7a51",
   "metadata": {},
   "outputs": [
    {
     "name": "stdout",
     "output_type": "stream",
     "text": [
      "Enter the number with seprated wih comma : 1,2,3,4,5,6,7\n",
      "list is  ['1', '2', '3', '4', '5', '6', '7']\n",
      "tuple is ('1', ',', '2', ',', '3', ',', '4', ',', '5', ',', '6', ',', '7')\n"
     ]
    }
   ],
   "source": [
    "string=input(\"Enter the number with seprated wih comma : \")\n",
    "list=string.split(\",\")\n",
    "print(\"list is \",list)\n",
    "print(\"tuple is\" ,tuple(string))"
   ]
  },
  {
   "cell_type": "markdown",
   "id": "9a5bcd60",
   "metadata": {},
   "source": [
    "# for extention find"
   ]
  },
  {
   "cell_type": "code",
   "execution_count": 47,
   "id": "5b1ce6dd",
   "metadata": {},
   "outputs": [
    {
     "name": "stdout",
     "output_type": "stream",
     "text": [
      "Enter the filename: abc.java\n",
      "extetion of this file are:  'java'\n"
     ]
    }
   ],
   "source": [
    "filename=input(\"Enter the filename: \")\n",
    "f_name=filename.split(\".\")\n",
    "print(\"extetion of this file are: \",repr(f_name[-1]))"
   ]
  },
  {
   "cell_type": "code",
   "execution_count": 48,
   "id": "74d10306",
   "metadata": {},
   "outputs": [
    {
     "name": "stdout",
     "output_type": "stream",
     "text": [
      "23\n",
      "45\n",
      "68\n"
     ]
    },
    {
     "data": {
      "text/plain": [
       "68"
      ]
     },
     "execution_count": 48,
     "metadata": {},
     "output_type": "execute_result"
    }
   ],
   "source": [
    "a=int(input())\n",
    "b=int(input())\n",
    "c=int(input())\n",
    "max(a,b,c)"
   ]
  },
  {
   "cell_type": "code",
   "execution_count": 76,
   "id": "61f96abf",
   "metadata": {},
   "outputs": [
    {
     "name": "stdout",
     "output_type": "stream",
     "text": [
      "49\n"
     ]
    }
   ],
   "source": [
    "s=[1,2,3,4,5,6,7]\n",
    "k=0\n",
    "for i in s:\n",
    "    k=i*i\n",
    "print(k)"
   ]
  },
  {
   "cell_type": "code",
   "execution_count": 78,
   "id": "e7bde479",
   "metadata": {},
   "outputs": [
    {
     "name": "stdout",
     "output_type": "stream",
     "text": [
      "[7, 6, 5, 4, 3, 2, 1]\n"
     ]
    }
   ],
   "source": [
    "print(s[: : -1])"
   ]
  },
  {
   "cell_type": "code",
   "execution_count": 85,
   "id": "b4237239",
   "metadata": {},
   "outputs": [
    {
     "name": "stdout",
     "output_type": "stream",
     "text": [
      "Enter the positive number only 5\n",
      "120\n"
     ]
    }
   ],
   "source": [
    "n=int(input(\"Enter the positive number only \"))\n",
    "k=1\n",
    "for i in range(1,n+1):\n",
    "    k=k*i\n",
    "print(k)"
   ]
  },
  {
   "cell_type": "markdown",
   "id": "e1ed03fc",
   "metadata": {},
   "source": [
    "# duplicate charecter remove in the list"
   ]
  },
  {
   "cell_type": "code",
   "execution_count": 21,
   "id": "cf06b5b9",
   "metadata": {},
   "outputs": [
    {
     "name": "stdout",
     "output_type": "stream",
     "text": [
      "vvinaauudiua\n",
      "i n d i u a\n",
      "None\n"
     ]
    }
   ],
   "source": [
    "def remove(string):\n",
    "    dup=[]\n",
    "    for i in string:\n",
    "        if i in string:\n",
    "            dup.append(i)\n",
    "    for i in dup:\n",
    "        if dup.count(i)>=2:\n",
    "            for j in range(2):\n",
    "                dup.remove(i)\n",
    "    print(\" \".join(dup))\n",
    "string=input()\n",
    "remove(string)"
   ]
  },
  {
   "cell_type": "code",
   "execution_count": 20,
   "id": "33c301b1",
   "metadata": {},
   "outputs": [],
   "source": [
    "temp=open('sample.txt',\"r\")#open functiom for open file"
   ]
  },
  {
   "cell_type": "code",
   "execution_count": 17,
   "id": "cfbff86b",
   "metadata": {},
   "outputs": [
    {
     "data": {
      "text/plain": [
       "'hii my name is hariom vishawkaram\\nage 23\\nsex male'"
      ]
     },
     "execution_count": 17,
     "metadata": {},
     "output_type": "execute_result"
    }
   ],
   "source": [
    "temp.read()\n",
    "temp.close()"
   ]
  },
  {
   "cell_type": "code",
   "execution_count": 21,
   "id": "64ff10d4",
   "metadata": {},
   "outputs": [
    {
     "name": "stdout",
     "output_type": "stream",
     "text": [
      "hii my name is hariom vishawkaram\n",
      "age 23\n",
      "sex male\n"
     ]
    }
   ],
   "source": [
    "k=temp.read()\n",
    "print(k)"
   ]
  },
  {
   "cell_type": "code",
   "execution_count": 28,
   "id": "373d8103",
   "metadata": {},
   "outputs": [],
   "source": [
    "temp=open(\"c:\\dog.java\",\"r\")\n",
    "temp.close()"
   ]
  },
  {
   "cell_type": "code",
   "execution_count": 30,
   "id": "da118652",
   "metadata": {},
   "outputs": [
    {
     "name": "stdout",
     "output_type": "stream",
     "text": [
      "ublic class Dog extends\n",
      " java .applet.Applet \n",
      "{\n",
      "    public void init() \n",
      "    {\n",
      "        \n",
      "        setLayout(new FlowLayout(FlowLayout.LEFT));\n",
      "        \n",
      "        add(new Label(\"Name          :\"));\n",
      "        add(new TextField(10));\n",
      "\n",
      "        add(new Label(\"Address       :\"));\n",
      "        add(new TextField(10));\n",
      "        \n",
      "        add(new Label(\"Birthday      :\"));\n",
      "        add(new TextField(10)); \n",
      "        \n",
      "\n",
      "        add(new Label(\"Gender        :\"));\n",
      "        Choice gender = new Choice(); \n",
      "        gender.addItem(\"Man\"); \n",
      "        gender.addItem(\"Woman\"); \n",
      "        Component add = add(gender); \n",
      "\n",
      "        add(new Label(\"Job            :\"));\n",
      "        CheckboxGroup job = new CheckboxGroup();\n",
      "        add(new Checkbox(\"Student\", job, false));\n",
      "        add(new Checkbox(\"Teacher\", job, false));\n",
      "                \n",
      "        add(new Button(\"Register\"));\n",
      "        add(new Button(\"Exit\"));\n",
      "        }\n",
      "}\n"
     ]
    }
   ],
   "source": [
    "k=temp.read()\n",
    "print(k)\n",
    "temp.close()"
   ]
  },
  {
   "cell_type": "code",
   "execution_count": 37,
   "id": "7a72894d",
   "metadata": {},
   "outputs": [],
   "source": [
    "temp=open(\"sample.txt\",\"w\")"
   ]
  },
  {
   "cell_type": "code",
   "execution_count": 38,
   "id": "de0cae6d",
   "metadata": {},
   "outputs": [
    {
     "data": {
      "text/plain": [
       "14"
      ]
     },
     "execution_count": 38,
     "metadata": {},
     "output_type": "execute_result"
    }
   ],
   "source": [
    "temp.write(\"address bhilai\")\n",
    "temp.close"
   ]
  },
  {
   "cell_type": "code",
   "execution_count": 40,
   "id": "b8ee06ec",
   "metadata": {},
   "outputs": [
    {
     "name": "stdout",
     "output_type": "stream",
     "text": [
      "address bhilai\n"
     ]
    }
   ],
   "source": [
    "temp=open(\"sample.txt\",\"r\")\n",
    "k=temp.read()\n",
    "print(k)\n",
    "temp.close()"
   ]
  },
  {
   "cell_type": "code",
   "execution_count": 46,
   "id": "b3182d9b",
   "metadata": {},
   "outputs": [],
   "source": [
    "temp=open(\"sample.txt\",\"a\")\n",
    "temp.write(\"\\nhii my name is hariom\\nage 23\\nsex male\")\n",
    "temp.close()"
   ]
  },
  {
   "cell_type": "code",
   "execution_count": 47,
   "id": "7563d667",
   "metadata": {},
   "outputs": [
    {
     "name": "stdout",
     "output_type": "stream",
     "text": [
      "address bhilaihii my name is hariom\n",
      "age 23\n",
      "sex male\n",
      "hii my name is hariom\n",
      "age 23\n",
      "sex male\n"
     ]
    }
   ],
   "source": [
    "temp=open(\"sample.txt\",\"r\")\n",
    "k=temp.read()\n",
    "print(k)\n",
    "temp.close()"
   ]
  },
  {
   "cell_type": "code",
   "execution_count": 48,
   "id": "15546090",
   "metadata": {},
   "outputs": [
    {
     "name": "stdout",
     "output_type": "stream",
     "text": [
      "college-rungta instetute of engineering and technology bhilai\n",
      "address bhilaihii my name is hariom\n",
      "age 23\n",
      "sex male\n",
      "hii my name is hariom\n",
      "age 23\n",
      "sex male\n"
     ]
    }
   ],
   "source": [
    "n=input()\n",
    "temp=open(\"sample.txta\",\"a\")\n",
    "temp.write(n)\n",
    "temp.close()\n",
    "temp1=open(\"sample.txt\",\"r\")\n",
    "k=temp1.read()\n",
    "print(k)"
   ]
  },
  {
   "cell_type": "code",
   "execution_count": 51,
   "id": "8717f7fb",
   "metadata": {},
   "outputs": [
    {
     "name": "stdout",
     "output_type": "stream",
     "text": [
      "address bhilaihii my name is hariom\n",
      "age 23\n",
      "sex male\n",
      "hii my name is hariom\n",
      "age 23\n",
      "sex maleimport java.awt.*;\n",
      "public class Dog extends\n",
      " java .applet.Applet \n",
      "{\n",
      "    public void init() \n",
      "    {\n",
      "        \n",
      "        setLayout(new FlowLayout(FlowLayout.LEFT));\n",
      "        \n",
      "        add(new Label(\"Name          :\"));\n",
      "        add(new TextField(10));\n",
      "\n",
      "        add(new Label(\"Address       :\"));\n",
      "        add(new TextField(10));\n",
      "        \n",
      "        add(new Label(\"Birthday      :\"));\n",
      "        add(new TextField(10)); \n",
      "        \n",
      "\n",
      "        add(new Label(\"Gender        :\"));\n",
      "        Choice gender = new Choice(); \n",
      "        gender.addItem(\"Man\"); \n",
      "        gender.addItem(\"Woman\"); \n",
      "        Component add = add(gender); \n",
      "\n",
      "        add(new Label(\"Job            :\"));\n",
      "        CheckboxGroup job = new CheckboxGroup();\n",
      "        add(new Checkbox(\"Student\", job, false));\n",
      "        add(new Checkbox(\"Teacher\", job, false));\n",
      "                \n",
      "        add(new Button(\"Register\"));\n",
      "        add(new Button(\"Exit\"));\n",
      "        }\n",
      "}\n"
     ]
    }
   ],
   "source": [
    "temp=open(\"C:\\dog.java\",\"r\")\n",
    "k=temp.read()\n",
    "temp.close()\n",
    "temp1=open(\"sample.txt\",\"a\")\n",
    "temp1.write(k)\n",
    "temp1.close()\n",
    "temp2=open(\"sample.txt\",\"r\")\n",
    "k=temp2.read()\n",
    "print(k)\n"
   ]
  },
  {
   "cell_type": "code",
   "execution_count": 54,
   "id": "e080818e",
   "metadata": {},
   "outputs": [
    {
     "name": "stdout",
     "output_type": "stream",
     "text": [
      "address bhilaihii my name is hariom\n",
      "age 23\n",
      "sex male\n",
      "hii my name is hariom\n",
      "age 23\n",
      "sex maleimport java.awt.*;\n",
      "public class Dog extends\n",
      " java .applet.Applet \n",
      "{\n",
      "    public void init() \n",
      "    {\n",
      "        \n",
      "        setLayout(new FlowLayout(FlowLayout.LEFT));\n",
      "        \n",
      "        add(new Label(\"Name          :\"));\n",
      "        add(new TextField(10));\n",
      "\n",
      "        add(new Label(\"Address       :\"));\n",
      "        add(new TextField(10));\n",
      "        \n",
      "        add(new Label(\"Birthday      :\"));\n",
      "        add(new TextField(10)); \n",
      "        \n",
      "\n",
      "        add(new Label(\"Gender        :\"));\n",
      "        Choice gender = new Choice(); \n",
      "        gender.addItem(\"Man\"); \n",
      "        gender.addItem(\"Woman\"); \n",
      "        Component add = add(gender); \n",
      "\n",
      "        add(new Label(\"Job            :\"));\n",
      "        CheckboxGroup job = new CheckboxGroup();\n",
      "        add(new Checkbox(\"Student\", job, false));\n",
      "        add(new Checkbox(\"Teacher\", job, false));\n",
      "                \n",
      "        add(new Button(\"Register\"));\n",
      "        add(new Button(\"Exit\"));\n",
      "        }\n",
      "}hii my name is hariom\n",
      "age 23\n",
      "sex maleimport java.awt.*;\n",
      "public class fish extends java.applet.Applet \n",
      "{\n",
      "    public void init() \n",
      "    {\n",
      "        \n",
      "        setLayout(new FlowLayout(FlowLayout.LEFT));\n",
      "        \n",
      "        add(new Label(\"Name          :\"));\n",
      "        add(new TextField(10));\n",
      "\n",
      "        add(new Label(\"Address       :\"));\n",
      "        add(new TextField(10));\n",
      "        \n",
      "        add(new Label(\"Birthday      :\"));\n",
      "        add(new TextField(10)); \n",
      "        \n",
      "\n",
      "        add(new Label(\"Gender        :\"));\n",
      "        Choice gender = new Choice(); \n",
      "        gender.addItem(\"Man\"); \n",
      "        gender.addItem(\"Woman\"); \n",
      "        Component add = add(gender); \n",
      "\n",
      "        add(new Label(\"Job            :\"));\n",
      "        CheckboxGroup job = new CheckboxGroup();\n",
      "        add(new Checkbox(\"Student\", job, false));\n",
      "        add(new Checkbox(\"Teacher\", job, false));\n",
      "                \n",
      "        add(new Button(\"Register\"));\n",
      "        add(new Button(\"Exit\"));\n",
      "        }\n",
      "}import java.awt.*;\n",
      "public class Tes extends java.applet.Applet \n",
      "{\n",
      "    public void init() \n",
      "    {\n",
      "        \n",
      "        setLayout(new FlowLayout(FlowLayout.LEFT));\n",
      "        \n",
      "        add(new Label(\"Name          :\"));\n",
      "        add(new TextField(10));\n",
      "\n",
      "        add(new Label(\"Address       :\"));\n",
      "        add(new TextField(10));\n",
      "        \n",
      "        add(new Label(\"Birthday      :\"));\n",
      "        add(new TextField(10)); \n",
      "        \n",
      "\n",
      "        add(new Label(\"Gender        :\"));\n",
      "        Choice gender = new Choice(); \n",
      "        gender.addItem(\"Man\"); \n",
      "        gender.addItem(\"Woman\"); \n",
      "        Component add = add(gender); \n",
      "\n",
      "        add(new Label(\"Job            :\"));\n",
      "        CheckboxGroup job = new CheckboxGroup();\n",
      "        add(new Checkbox(\"Student\", job, false));\n",
      "        add(new Checkbox(\"Teacher\", job, false));\n",
      "                \n",
      "        add(new Button(\"Register\"));\n",
      "        add(new Button(\"Exit\"));\n",
      "        }\n",
      "}import java.awt.*;\n",
      "public class Dog extends\n",
      " java .applet.Applet \n",
      "{\n",
      "    public void init() \n",
      "    {\n",
      "        \n",
      "        setLayout(new FlowLayout(FlowLayout.LEFT));\n",
      "        \n",
      "        add(new Label(\"Name          :\"));\n",
      "        add(new TextField(10));\n",
      "\n",
      "        add(new Label(\"Address       :\"));\n",
      "        add(new TextField(10));\n",
      "        \n",
      "        add(new Label(\"Birthday      :\"));\n",
      "        add(new TextField(10)); \n",
      "        \n",
      "\n",
      "        add(new Label(\"Gender        :\"));\n",
      "        Choice gender = new Choice(); \n",
      "        gender.addItem(\"Man\"); \n",
      "        gender.addItem(\"Woman\"); \n",
      "        Component add = add(gender); \n",
      "\n",
      "        add(new Label(\"Job            :\"));\n",
      "        CheckboxGroup job = new CheckboxGroup();\n",
      "        add(new Checkbox(\"Student\", job, false));\n",
      "        add(new Checkbox(\"Teacher\", job, false));\n",
      "                \n",
      "        add(new Button(\"Register\"));\n",
      "        add(new Button(\"Exit\"));\n",
      "        }\n",
      "}\n"
     ]
    }
   ],
   "source": [
    "copy=\"\"\n",
    "temp=open(\"c:\\\\fish.java\",\"r\")\n",
    "copy += temp.read()\n",
    "temp.close()\n",
    "temp1=open(\"c:\\\\hms.java\",\"r\")\n",
    "copy += temp1.read()\n",
    "temp1.close()\n",
    "temp2=open(\"c:\\\\dog.java\",\"r\")\n",
    "copy += temp2.read()\n",
    "temp2.close()\n",
    "temp3=open(\"sample.txt\",\"a\")\n",
    "temp3.write(copy)\n",
    "temp3.close()\n",
    "temp4=open(\"sample.txt\",\"r\")\n",
    "k=temp4.read()\n",
    "print(k)"
   ]
  },
  {
   "cell_type": "code",
   "execution_count": null,
   "id": "d8ded9de",
   "metadata": {},
   "outputs": [],
   "source": []
  }
 ],
 "metadata": {
  "kernelspec": {
   "display_name": "Python 3 (ipykernel)",
   "language": "python",
   "name": "python3"
  },
  "language_info": {
   "codemirror_mode": {
    "name": "ipython",
    "version": 3
   },
   "file_extension": ".py",
   "mimetype": "text/x-python",
   "name": "python",
   "nbconvert_exporter": "python",
   "pygments_lexer": "ipython3",
   "version": "3.11.3"
  }
 },
 "nbformat": 4,
 "nbformat_minor": 5
}
